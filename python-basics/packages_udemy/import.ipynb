{
 "cells": [
  {
   "cell_type": "code",
   "execution_count": 6,
   "metadata": {},
   "outputs": [
    {
     "name": "stdout",
     "output_type": "stream",
     "text": [
      "14.142135623730951 1024.0\n"
     ]
    }
   ],
   "source": [
    "from math import sqrt,pow\n",
    "num,num1= sqrt(200),pow(4,5)\n",
    "print(num,num1)"
   ]
  },
  {
   "cell_type": "code",
   "execution_count": 18,
   "metadata": {},
   "outputs": [
    {
     "name": "stdout",
     "output_type": "stream",
     "text": [
      "3 87\n",
      "30 60\n",
      "60 30\n",
      "87 3\n",
      "[]\n"
     ]
    }
   ],
   "source": [
    "list1=[1,3,30,4,5,60,7,87,8]\n",
    "target=90\n",
    "nums=[]\n",
    "\n",
    "for i in list1:\n",
    "    for j in list1:\n",
    "        if(i+j)==target:\n",
    "            print(i,j)\n",
    "            \n",
    "print(nums)\n",
    "    "
   ]
  },
  {
   "cell_type": "code",
   "execution_count": 27,
   "metadata": {},
   "outputs": [
    {
     "name": "stdout",
     "output_type": "stream",
     "text": [
      "{3, 20, 70, 87}\n"
     ]
    }
   ],
   "source": [
    "list1 = [1, 20, 3, 70, 5, 6, 7, 87, 8]\n",
    "target = 90\n",
    "nums = set()  # Set to store numbers we've seen so far\n",
    "\n",
    "for i in list1:\n",
    "    complement=target-i\n",
    "    if complement in list1:\n",
    "        nums.add(i)\n",
    "        nums.add(complement)\n",
    "print(nums)\n",
    "\n",
    "    "
   ]
  },
  {
   "cell_type": "code",
   "execution_count": null,
   "metadata": {},
   "outputs": [
    {
     "name": "stdout",
     "output_type": "stream",
     "text": [
      "3.1622776601683795\n"
     ]
    }
   ],
   "source": [
    "import numpy as np\n",
    "arr=np.array([1,2,3,4])\n",
    "print(sqrt(sum(arr)))"
   ]
  },
  {
   "cell_type": "code",
   "execution_count": 7,
   "metadata": {},
   "outputs": [
    {
     "data": {
      "text/plain": [
       "21"
      ]
     },
     "execution_count": 7,
     "metadata": {},
     "output_type": "execute_result"
    }
   ],
   "source": [
    "from math_math import addition\n",
    "addition(1,2,3,4,5,6)"
   ]
  }
 ],
 "metadata": {
  "kernelspec": {
   "display_name": "Python 3",
   "language": "python",
   "name": "python3"
  },
  "language_info": {
   "codemirror_mode": {
    "name": "ipython",
    "version": 3
   },
   "file_extension": ".py",
   "mimetype": "text/x-python",
   "name": "python",
   "nbconvert_exporter": "python",
   "pygments_lexer": "ipython3",
   "version": "3.12.0"
  }
 },
 "nbformat": 4,
 "nbformat_minor": 2
}
