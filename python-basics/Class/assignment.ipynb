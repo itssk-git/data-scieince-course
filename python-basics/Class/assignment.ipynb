{
 "cells": [
  {
   "cell_type": "code",
   "execution_count": 14,
   "metadata": {},
   "outputs": [
    {
     "data": {
      "text/plain": [
       "{'roll': 3,\n",
       " 'name': 'Sachin Karki',\n",
       " 'average': 63.333333333333336,\n",
       " 'grades': {'Social': 80, 'Science': 50, 'Math': 60}}"
      ]
     },
     "execution_count": 14,
     "metadata": {},
     "output_type": "execute_result"
    }
   ],
   "source": [
    "class Student:\n",
    "    def __init__(self ,name ,roll_no,grades):\n",
    "        self.name=name\n",
    "        self.roll_no=roll_no\n",
    "        self.grades=grades\n",
    "\n",
    "    def add_grade(self, subject,score):\n",
    "        self.grades[subject]=score\n",
    "        return None\n",
    "\n",
    "    \n",
    "    def get_average(self):\n",
    "        avg_score= sum(self.grades.values())/len(self.grades)\n",
    "        return avg_score\n",
    "       \n",
    "    \n",
    "    def get_details(self):\n",
    "        student_detail={\n",
    "            \"roll\": self.roll_no,\n",
    "            \"name\":self.name,\n",
    "            \"average\":self.get_average(),\n",
    "            \"grades\":self.grades\n",
    "\n",
    "        \n",
    "        }\n",
    "        return student_detail\n",
    "    \n",
    "grades={\n",
    "    \"Social\": 80,\n",
    "    \"Science\":50\n",
    "\n",
    "}\n",
    "\n",
    "s1=Student(\"Sachin Karki\",3,grades)\n",
    "s1.add_grade(\"Math\",60)\n",
    "s1.get_details()\n",
    "\n",
    "            \n",
    "\n",
    "    "
   ]
  },
  {
   "cell_type": "code",
   "execution_count": 61,
   "metadata": {},
   "outputs": [
    {
     "name": "stdout",
     "output_type": "stream",
     "text": [
      "Books in Library:\n",
      "  The Alchemist: 53 copies\n",
      "  Hello World: 35 copies\n",
      "  Python Program: 7 copies\n",
      "\n",
      "Borrowed Books:\n",
      "  sachin: The Nun The Alchemist\n"
     ]
    }
   ],
   "source": [
    "class Library:\n",
    "    def __init__(self,books,borrowed_books):\n",
    "        self.books=books\n",
    "        self.borrowed_books=borrowed_books\n",
    "    \n",
    "    def add_book(self,title,quantity):\n",
    "        if title in self.books:\n",
    "            self.books[title]+=quantity\n",
    "        else:\n",
    "            self.books[title]=quantity\n",
    "    \n",
    "    def borrow_book(self,user,title):\n",
    "        if self.books[title]>1:\n",
    "            self.books[title]-=1\n",
    "            if user in self.borrowed_books:\n",
    "                self.borrowed_books[user].append(title)\n",
    "            else:\n",
    "                None\n",
    "        else:\n",
    "            None\n",
    "    def print_details(self):\n",
    "        return {\n",
    "            \"books\":self.books,\n",
    "            \"borrowed\":self.borrowed_books\n",
    "        }\n",
    "                \n",
    "\n",
    "l1=Library(books={\"The Alchemist\":54},borrowed_books={\"sachin\":[\"The Nun\"]})\n",
    "l1.borrow_book(\"sachin\",\"The Alchemist\")  \n",
    "l1.add_book(\"Hello World\",7)\n",
    "l1.add_book(\"Hello World\",7)\n",
    "l1.add_book(\"Hello World\",7)\n",
    "l1.add_book(\"Hello World\",7)\n",
    "l1.add_book(\"Hello World\",7)\n",
    "l1.add_book(\"Python Program\",7)\n",
    "dict1=l1.print_details()\n",
    "\n",
    "print(\"Books in Library:\")\n",
    "for book, quantity in dict1[\"books\"].items():\n",
    "    print(f\"  {book}: {quantity} copies\")\n",
    "\n",
    "print(\"\\nBorrowed Books:\")\n",
    "for user, borrowed_books in dict1[\"borrowed\"].items():\n",
    "    print(f\"  {user}: {\" \".join(borrowed_books)}\")\n",
    "\n",
    "\n",
    "\n",
    "        \n",
    "\n",
    "    "
   ]
  },
  {
   "cell_type": "code",
   "execution_count": null,
   "metadata": {},
   "outputs": [],
   "source": []
  }
 ],
 "metadata": {
  "kernelspec": {
   "display_name": "venv",
   "language": "python",
   "name": "python3"
  },
  "language_info": {
   "codemirror_mode": {
    "name": "ipython",
    "version": 3
   },
   "file_extension": ".py",
   "mimetype": "text/x-python",
   "name": "python",
   "nbconvert_exporter": "python",
   "pygments_lexer": "ipython3",
   "version": "3.12.0"
  }
 },
 "nbformat": 4,
 "nbformat_minor": 2
}
