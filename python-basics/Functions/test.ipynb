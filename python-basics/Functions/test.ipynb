{
 "cells": [
  {
   "cell_type": "code",
   "execution_count": 2,
   "metadata": {},
   "outputs": [
    {
     "name": "stdout",
     "output_type": "stream",
     "text": [
      "Hello Sachin\n",
      "Hello Diwa\n"
     ]
    }
   ],
   "source": [
    "def greet(*args):\n",
    "    for i in args:\n",
    "        print(f\"Hello {i}\")\n",
    "greet(\"Sachin\", \"Diwa\")\n"
   ]
  },
  {
   "cell_type": "code",
   "execution_count": 4,
   "metadata": {},
   "outputs": [
    {
     "name": "stdout",
     "output_type": "stream",
     "text": [
      "name Sachin\n",
      "age 32\n",
      "country Nepal\n"
     ]
    }
   ],
   "source": [
    "def print_details(**kwargs):\n",
    "    for key,value in kwargs.items():\n",
    "        print(key, value)\n",
    "print_details(name=\"Sachin\",age=32,country=\"Nepal\")"
   ]
  },
  {
   "cell_type": "code",
   "execution_count": 7,
   "metadata": {},
   "outputs": [
    {
     "name": "stdout",
     "output_type": "stream",
     "text": [
      "Sachin\n",
      "Nirman\n",
      "name Diwa\n"
     ]
    }
   ],
   "source": [
    "def greet(*args,**kwargs):\n",
    "    for i in args:\n",
    "        print(i)\n",
    "    for k,v in kwargs.items():\n",
    "        print(k,v)\n",
    "greet(\"Sachin\",\"Nirman\",name=\"Diwa\")"
   ]
  },
  {
   "cell_type": "code",
   "execution_count": 10,
   "metadata": {},
   "outputs": [
    {
     "name": "stdout",
     "output_type": "stream",
     "text": [
      "393120\n"
     ]
    }
   ],
   "source": [
    "##Return statement\n",
    "\n",
    "def multiply(*args):\n",
    "    mul=1\n",
    "    for i in args:\n",
    "        mul*=i\n",
    "    return mul\n",
    "\n",
    "print(multiply(1,2,3,4,5,6,7,78))"
   ]
  },
  {
   "cell_type": "code",
   "execution_count": 12,
   "metadata": {},
   "outputs": [
    {
     "name": "stdout",
     "output_type": "stream",
     "text": [
      "212.0\n"
     ]
    }
   ],
   "source": [
    "def tempToF(cel):\n",
    "    f=(9*cel/5)+32\n",
    "    return f\n",
    "print(tempToF(100))"
   ]
  },
  {
   "cell_type": "code",
   "execution_count": 23,
   "metadata": {},
   "outputs": [
    {
     "name": "stdout",
     "output_type": "stream",
     "text": [
      "True\n",
      "Youre logged in\n"
     ]
    }
   ],
   "source": [
    "def is_strong(password):\n",
    "    \"\"\"This checks if this is strong or not\"\"\"\n",
    "    if len(password)<8:\n",
    "        return False\n",
    "    if not any(char.isdigit() for char in password):\n",
    "        return False\n",
    "    if not any(char.islower() for char in password):\n",
    "        return False\n",
    "    if not any(char.isupper() for char in password):\n",
    "        return False\n",
    "    if not any(char in \"@$%#&*^)(\"   for char in password):\n",
    "        return False\n",
    "    return True\n",
    "print(is_strong(\"Sachin@123\"))\n",
    "if (is_strong(\"Sachin@123\")==1):\n",
    "    print(\"Youre logged in\")\n",
    "\n"
   ]
  },
  {
   "cell_type": "code",
   "execution_count": 37,
   "metadata": {},
   "outputs": [
    {
     "name": "stdout",
     "output_type": "stream",
     "text": [
      "$198.3\n"
     ]
    }
   ],
   "source": [
    "def calculate_total_cost(cart):\n",
    "    total_cost=0\n",
    "    for items in cart:\n",
    "        total_cost+=items[\"price\"]*items[\"quant\"]\n",
    "    return total_cost\n",
    "\n",
    "cart=[\n",
    "    {'name':\"Apple\",'price':32.1,\"quant\":3},\n",
    "    {'name':\"Orange\",'price':31,\"quant\":3},\n",
    "    {'name':\"Banana\",'price':3,\"quant\":3}\n",
    "]\n",
    "\n",
    "price=calculate_total_cost(cart)\n",
    "print(f\"${price}\")"
   ]
  },
  {
   "cell_type": "code",
   "execution_count": 43,
   "metadata": {},
   "outputs": [
    {
     "data": {
      "text/plain": [
       "True"
      ]
     },
     "execution_count": 43,
     "metadata": {},
     "output_type": "execute_result"
    }
   ],
   "source": [
    "def check_palindrome(value):\n",
    "    if(value[::1]==value[::-1]):\n",
    "        return True\n",
    "    return False\n",
    "\n",
    "check_palindrome(\"123321 123321\")"
   ]
  },
  {
   "cell_type": "code",
   "execution_count": 49,
   "metadata": {},
   "outputs": [
    {
     "name": "stdout",
     "output_type": "stream",
     "text": [
      "120\n"
     ]
    }
   ],
   "source": [
    "def calc_fact(number):\n",
    "    if number==0:\n",
    "        return 1\n",
    "    else:\n",
    "        return number*calc_fact(number-1)\n",
    "print(calc_fact(5))\n"
   ]
  },
  {
   "cell_type": "code",
   "execution_count": 59,
   "metadata": {},
   "outputs": [
    {
     "name": "stdout",
     "output_type": "stream",
     "text": [
      "{'hi': 1, 'my': 2, 'name': 1, 'is': 2, 'sachin': 1, 'i': 1, 'am': 1, 'a': 1, 'student': 1, 'work': 1, 'pending': 1}\n"
     ]
    }
   ],
   "source": [
    "def count_word_frequency(file_path):\n",
    "    word_count={}\n",
    "    with open(file_path,\"r\") as file1:\n",
    "        for line in file1:\n",
    "            words=line.split()\n",
    "            for word in words:\n",
    "                word=word.lower().strip('.,!?;:')\n",
    "                word_count[word]=word_count.get(word,0)+1\n",
    "\n",
    "    return word_count\n",
    "\n",
    "filepath=\"sample.txt\"\n",
    "word_freq=count_word_frequency(filepath)\n",
    "print(word_freq)\n"
   ]
  },
  {
   "cell_type": "code",
   "execution_count": 3,
   "metadata": {},
   "outputs": [
    {
     "name": "stdout",
     "output_type": "stream",
     "text": [
      "{'m': 5, 'y': 2, ' ': 14, 'n': 5, 'a': 9, 'e': 3, 'i': 5, 's': 4, 'c': 1, 'h': 2, 'k': 3, 'r': 3, 'd': 3, 'o': 4, 't': 4, 'v': 1, 'p': 1, 'w': 1}\n"
     ]
    }
   ],
   "source": [
    "intro=\"My name is Sachin Karki and i am a motivated person that do many works\"\n",
    "words_count={}\n",
    "for i in intro:\n",
    "    word=i.lower()\n",
    "    if word not in words_count:\n",
    "        words_count[word]=1\n",
    "    else:\n",
    "        words_count[word]+=1\n",
    "\n",
    "print(words_count)"
   ]
  },
  {
   "cell_type": "code",
   "execution_count": 5,
   "metadata": {},
   "outputs": [
    {
     "name": "stdout",
     "output_type": "stream",
     "text": [
      "11\n"
     ]
    }
   ],
   "source": [
    "##Lambda fucntion\n",
    "\n",
    "\n",
    "sum_of_numbers=lambda x,y:x+y\n",
    "print(sum_of_numbers(5,6))\n"
   ]
  }
 ],
 "metadata": {
  "kernelspec": {
   "display_name": "Python 3",
   "language": "python",
   "name": "python3"
  },
  "language_info": {
   "codemirror_mode": {
    "name": "ipython",
    "version": 3
   },
   "file_extension": ".py",
   "mimetype": "text/x-python",
   "name": "python",
   "nbconvert_exporter": "python",
   "pygments_lexer": "ipython3",
   "version": "3.12.0"
  }
 },
 "nbformat": 4,
 "nbformat_minor": 2
}
