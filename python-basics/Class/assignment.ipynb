{
 "cells": [
  {
   "cell_type": "code",
   "execution_count": 14,
   "metadata": {},
   "outputs": [
    {
     "data": {
      "text/plain": [
       "{'roll': 3,\n",
       " 'name': 'Sachin Karki',\n",
       " 'average': 63.333333333333336,\n",
       " 'grades': {'Social': 80, 'Science': 50, 'Math': 60}}"
      ]
     },
     "execution_count": 14,
     "metadata": {},
     "output_type": "execute_result"
    }
   ],
   "source": [
    "class Student:\n",
    "    def __init__(self ,name ,roll_no,grades):\n",
    "        self.name=name\n",
    "        self.roll_no=roll_no\n",
    "        self.grades=grades\n",
    "\n",
    "    def add_grade(self, subject,score):\n",
    "        self.grades[subject]=score\n",
    "        return None\n",
    "\n",
    "    \n",
    "    def get_average(self):\n",
    "        avg_score= sum(self.grades.values())/len(self.grades)\n",
    "        return avg_score\n",
    "       \n",
    "    \n",
    "    def get_details(self):\n",
    "        student_detail={\n",
    "            \"roll\": self.roll_no,\n",
    "            \"name\":self.name,\n",
    "            \"average\":self.get_average(),\n",
    "            \"grades\":self.grades\n",
    "\n",
    "        \n",
    "        }\n",
    "        return student_detail\n",
    "    \n",
    "grades={\n",
    "    \"Social\": 80,\n",
    "    \"Science\":50\n",
    "\n",
    "}\n",
    "\n",
    "s1=Student(\"Sachin Karki\",3,grades)\n",
    "s1.add_grade(\"Math\",60)\n",
    "s1.get_details()\n",
    "\n",
    "            \n",
    "\n",
    "    "
   ]
  },
  {
   "cell_type": "code",
   "execution_count": 61,
   "metadata": {},
   "outputs": [
    {
     "name": "stdout",
     "output_type": "stream",
     "text": [
      "Books in Library:\n",
      "  The Alchemist: 53 copies\n",
      "  Hello World: 35 copies\n",
      "  Python Program: 7 copies\n",
      "\n",
      "Borrowed Books:\n",
      "  sachin: The Nun The Alchemist\n"
     ]
    }
   ],
   "source": [
    "class Library:\n",
    "    def __init__(self,books,borrowed_books):\n",
    "        self.books=books\n",
    "        self.borrowed_books=borrowed_books\n",
    "    \n",
    "    def add_book(self,title,quantity):\n",
    "        if title in self.books:\n",
    "            self.books[title]+=quantity\n",
    "        else:\n",
    "            self.books[title]=quantity\n",
    "    \n",
    "    def borrow_book(self,user,title):\n",
    "        if self.books[title]>1:\n",
    "            self.books[title]-=1\n",
    "            if user in self.borrowed_books:\n",
    "                self.borrowed_books[user].append(title)\n",
    "            else:\n",
    "                None\n",
    "        else:\n",
    "            None\n",
    "    def print_details(self):\n",
    "        return {\n",
    "            \"books\":self.books,\n",
    "            \"borrowed\":self.borrowed_books\n",
    "        }\n",
    "                \n",
    "\n",
    "l1=Library(books={\"The Alchemist\":54},borrowed_books={\"sachin\":[\"The Nun\"]})\n",
    "l1.borrow_book(\"sachin\",\"The Alchemist\")  \n",
    "l1.add_book(\"Hello World\",7)\n",
    "l1.add_book(\"Hello World\",7)\n",
    "l1.add_book(\"Hello World\",7)\n",
    "l1.add_book(\"Hello World\",7)\n",
    "l1.add_book(\"Hello World\",7)\n",
    "l1.add_book(\"Python Program\",7)\n",
    "dict1=l1.print_details()\n",
    "\n",
    "print(\"Books in Library:\")\n",
    "for book, quantity in dict1[\"books\"].items():\n",
    "    print(f\"  {book}: {quantity} copies\")\n",
    "\n",
    "print(\"\\nBorrowed Books:\")\n",
    "for user, borrowed_books in dict1[\"borrowed\"].items():\n",
    "    print(f\"  {user}: {\" \".join(borrowed_books)}\")\n",
    "\n",
    "\n",
    "\n",
    "        \n",
    "\n",
    "    "
   ]
  },
  {
   "cell_type": "code",
   "execution_count": 28,
   "metadata": {},
   "outputs": [
    {
     "data": {
      "text/plain": [
       "{'Name': 'Sachin', 'Student Id': 123, 'course': ['Math', 'Science']}"
      ]
     },
     "execution_count": 28,
     "metadata": {},
     "output_type": "execute_result"
    }
   ],
   "source": [
    "class School:\n",
    "    def __init__(self):\n",
    "        self.students = {}\n",
    "        self.courses = {}\n",
    "\n",
    "    class Student:\n",
    "        def __init__(self, name, student_id, enrolled_courses):\n",
    "            self.name = name\n",
    "            self.student_id = student_id\n",
    "            self.enrolled_courses = enrolled_courses\n",
    "\n",
    "        def enroll(self, course_name):\n",
    "            if course_name not in self.enrolled_courses:\n",
    "                self.enrolled_courses.append(course_name)\n",
    "\n",
    "        def get_courses(self):\n",
    "            return self.enrolled_courses\n",
    "    \n",
    "    def add_student(self,name,student_id):\n",
    "        if student_id not in self.students:\n",
    "            self.students[student_id]=self.Student(name,student_id,[])\n",
    "        else:\n",
    "            print(\"Student already exist\")\n",
    "    \n",
    "    def enroll_student_in_course(self,student_id,course_name):\n",
    "        if student_id not in self.students:\n",
    "            print(\"Student doesnt exist\")\n",
    "        student=self.students[student_id]\n",
    "        student.enroll(course_name)\n",
    "\n",
    "        if course_name not in self.courses:\n",
    "            self.courses[course_name]=[]\n",
    "\n",
    "        if student_id not in self.courses[course_name]:\n",
    "            self.courses[course_name].append(course_name)\n",
    "\n",
    "    def get_student_details(self,student_id):\n",
    "        if student_id in self.students:\n",
    "            student=self.students[student_id]\n",
    "        return{\n",
    "            \"Name\":student.name,\n",
    "            \"Student Id\":student.student_id,\n",
    "            \"course\": student.enrolled_courses\n",
    "        }\n",
    "        \n",
    "    \n",
    "school=School()\n",
    "school.add_student(\"Sachin\",123)\n",
    "school.enroll_student_in_course(123,\"Math\")\n",
    "school.enroll_student_in_course(123,\"Science\")\n",
    "school.get_student_details(123)\n",
    "\n",
    "\n",
    "    "
   ]
  },
  {
   "cell_type": "code",
   "execution_count": null,
   "metadata": {},
   "outputs": [],
   "source": []
  },
  {
   "cell_type": "code",
   "execution_count": 53,
   "metadata": {},
   "outputs": [
    {
     "data": {
      "text/plain": [
       "{'name': 'Sachin', 'age': 21}"
      ]
     },
     "execution_count": 53,
     "metadata": {},
     "output_type": "execute_result"
    }
   ],
   "source": [
    "#public private and protected\n",
    "\n",
    "class Person:\n",
    "    def __init__(self,name, age,grade):\n",
    "        self.__name=name\n",
    "        self.__age=age\n",
    "        self.grade=grade\n",
    "    \n",
    "    def get_details(self):\n",
    "        return {\n",
    "            \"name\":self.__name,\n",
    "            \"age\":self.__age\n",
    "        }\n",
    "\n",
    "p1=Person(\"Sachin\",21,\"A\")\n",
    "p1.get_details()"
   ]
  },
  {
   "cell_type": "code",
   "execution_count": 63,
   "metadata": {},
   "outputs": [
    {
     "name": "stdout",
     "output_type": "stream",
     "text": [
      "The car is driving\n",
      "Started\n"
     ]
    }
   ],
   "source": [
    "from abc import abstractmethod,ABC\n",
    "class Vechicle(ABC):\n",
    "    def drive(self):\n",
    "        print(\"The car is driving\")\n",
    "    @abstractmethod\n",
    "    def start(self):\n",
    "        pass\n",
    "\n",
    "\n",
    "class Car(Vechicle):\n",
    "    def start(self):\n",
    "        print(\"Started\")\n",
    "\n",
    "def operate(vechicle):\n",
    "    vechicle.drive()\n",
    "    vechicle.start()\n",
    "\n",
    "v1=Car()\n",
    "operate(v1)\n",
    "\n"
   ]
  },
  {
   "cell_type": "code",
   "execution_count": 72,
   "metadata": {},
   "outputs": [
    {
     "name": "stdout",
     "output_type": "stream",
     "text": [
      "Rim German Maltibu\n",
      "Rim,German,Maltibu\n"
     ]
    }
   ],
   "source": [
    "class Animal:\n",
    "    def __init__(self,name,species):\n",
    "        self.name=name\n",
    "        self.species=species\n",
    "\n",
    "class Dog(Animal):\n",
    "    def __init__(self, name, species,breed):\n",
    "        super().__init__(name, species)\n",
    "        self.breed=breed\n",
    "    \n",
    "    def __str__(self):\n",
    "        return f\"{self.name},{self.breed},{self.species}\"\n",
    "\n",
    "\n",
    "rim=Dog(\"Rim\",\"Maltibu\",\"German\")\n",
    "print(rim.name,rim.breed,rim.species)\n",
    "print(rim)"
   ]
  },
  {
   "cell_type": "code",
   "execution_count": 74,
   "metadata": {},
   "outputs": [
    {
     "name": "stdout",
     "output_type": "stream",
     "text": [
      "Rim is barking\n"
     ]
    }
   ],
   "source": [
    "class Animal:\n",
    "    def __init__(self,name,species):\n",
    "        self.name=name\n",
    "        self.species=species\n",
    "\n",
    "class Dog(Animal):\n",
    "    def __init__(self, name, species,breed):\n",
    "        super().__init__(name, species)\n",
    "        self.breed=breed\n",
    "\n",
    "    def bark(self):\n",
    "        print(f\"{self.name} is barking\")\n",
    "    \n",
    "    def __str__(self):\n",
    "        return f\"{self.name},{self.breed},{self.species}\"\n",
    "    \n",
    "rim=Dog(\"Rim\",\"Maltibu\",\"German\")\n",
    "rim.bark()\n"
   ]
  },
  {
   "cell_type": "code",
   "execution_count": 89,
   "metadata": {},
   "outputs": [
    {
     "name": "stdout",
     "output_type": "stream",
     "text": [
      "Sachin is Walking\n"
     ]
    },
    {
     "data": {
      "text/plain": [
       "'Walking'"
      ]
     },
     "execution_count": 89,
     "metadata": {},
     "output_type": "execute_result"
    }
   ],
   "source": [
    "class Walker:\n",
    "    def walk(self):\n",
    "        return \"Walking\"\n",
    "\n",
    "class Runner:\n",
    "    def run(self):\n",
    "        return \"Running\"\n",
    "\n",
    "class Athlete(Walker,Runner):\n",
    "    def __init__(self,name):\n",
    "        self.name=name\n",
    "\n",
    "a1=Athlete(\"Sachin\")\n",
    "print(f\"{a1.name} is {a1.walk()}\")\n",
    "a1.walk()\n"
   ]
  },
  {
   "cell_type": "code",
   "execution_count": 99,
   "metadata": {},
   "outputs": [
    {
     "name": "stdout",
     "output_type": "stream",
     "text": [
      "Sachin is Walking\n"
     ]
    },
    {
     "data": {
      "text/plain": [
       "'Sachin is training'"
      ]
     },
     "execution_count": 99,
     "metadata": {},
     "output_type": "execute_result"
    }
   ],
   "source": [
    "class Walker:\n",
    "    def walk(self):\n",
    "        return \"Walking\"\n",
    "\n",
    "class Runner:\n",
    "    def run(self):\n",
    "        return \"Running\"\n",
    "\n",
    "class Athlete(Walker,Runner):\n",
    "    def __init__(self,name):\n",
    "        self.name=name\n",
    "\n",
    "    def walk(self):\n",
    "        return f\"{self.name} is {super().walk()}\"\n",
    "    def train(self):\n",
    "        return f\"{self.name} is training\"\n",
    "    \n",
    "\n",
    "a1=Athlete(\"Sachin\")\n",
    "print(f\"{a1.walk()}\")\n",
    "a1.walk()\n",
    "a1.train()\n"
   ]
  },
  {
   "cell_type": "code",
   "execution_count": 109,
   "metadata": {},
   "outputs": [
    {
     "name": "stdout",
     "output_type": "stream",
     "text": [
      "Message A\n",
      "Message B\n",
      "Message C\n",
      "Message C\n"
     ]
    }
   ],
   "source": [
    "class A:\n",
    "    def show(self):\n",
    "        print(\"Message A\")\n",
    "\n",
    "class B(A):\n",
    "    def show(self):\n",
    "        print(\"Message B\")\n",
    "\n",
    "        \n",
    "class C(A):\n",
    "    def show(self):\n",
    "        print(\"Message C\")\n",
    "\n",
    "class D(C,B):\n",
    "    def show(self):\n",
    "        return super().show()\n",
    "\n",
    "a=A()\n",
    "b=B()\n",
    "c=C()\n",
    "d=D()\n",
    "\n",
    "a.show()\n",
    "b.show()\n",
    "c.show()\n",
    "d.show()\n"
   ]
  },
  {
   "cell_type": "code",
   "execution_count": null,
   "metadata": {},
   "outputs": [
    {
     "name": "stdout",
     "output_type": "stream",
     "text": [
      "<__main__.Manager object at 0x000001B2DF0D41A0>\n"
     ]
    }
   ],
   "source": [
    "class Person:\n",
    "    def __init__(self,name):\n",
    "        self.name=name\n",
    "\n",
    "class Employee:\n",
    "    def __init__(self,employee_id):\n",
    "        self.employee_id=employee_id\n",
    "\n",
    "class Manager(Person,Employee):\n",
    "    def __init__(self,name, employee_id):\n",
    "        Person.__init__(self,name)\n",
    "        Employee.__init__(self,employee_id)\n",
    "    \n",
    "    def __str__(self)\n",
    "\n",
    "m1=Manager(\"Sachin\",123)\n",
    "print(m1)"
   ]
  }
 ],
 "metadata": {
  "kernelspec": {
   "display_name": "venv",
   "language": "python",
   "name": "python3"
  },
  "language_info": {
   "codemirror_mode": {
    "name": "ipython",
    "version": 3
   },
   "file_extension": ".py",
   "mimetype": "text/x-python",
   "name": "python",
   "nbconvert_exporter": "python",
   "pygments_lexer": "ipython3",
   "version": "3.12.0"
  }
 },
 "nbformat": 4,
 "nbformat_minor": 2
}
