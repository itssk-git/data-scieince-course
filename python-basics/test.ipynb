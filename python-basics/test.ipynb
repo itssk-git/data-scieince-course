{
 "cells": [
  {
   "cell_type": "code",
   "execution_count": 3,
   "metadata": {},
   "outputs": [
    {
     "name": "stdout",
     "output_type": "stream",
     "text": [
      "{1, 'Samundra', 'Sachin'}\n"
     ]
    }
   ],
   "source": [
    "list={\"Sachin\",\"Samundra\",1}\n",
    "print(list)"
   ]
  },
  {
   "cell_type": "code",
   "execution_count": 5,
   "metadata": {},
   "outputs": [
    {
     "name": "stdout",
     "output_type": "stream",
     "text": [
      "Hello World\n"
     ]
    }
   ],
   "source": [
    "print(\"Hello World\")"
   ]
  },
  {
   "cell_type": "code",
   "execution_count": 6,
   "metadata": {},
   "outputs": [
    {
     "name": "stdout",
     "output_type": "stream",
     "text": [
      "Larger than this\n",
      "Larger than this\n",
      "Larger than this\n",
      "Larger than this\n",
      "Larger than this\n",
      "Smaller than this\n",
      "Smaller than this\n",
      "You've guessed correctly\n"
     ]
    }
   ],
   "source": [
    "result_num=10\n",
    "while number!=result_num:\n",
    "    number=int(input(\"Guess an integer\"))\n",
    "    if(number==result_num):\n",
    "        print(\"You've guessed correctly\")\n",
    "    elif(number<result_num):\n",
    "        print(\"Larger than this\")\n",
    "    else:\n",
    "        print(\"Smaller than this\")\n"
   ]
  },
  {
   "cell_type": "code",
   "execution_count": 11,
   "metadata": {},
   "outputs": [
    {
     "name": "stdout",
     "output_type": "stream",
     "text": [
      "15\n"
     ]
    }
   ],
   "source": [
    "num=int(input(\"Enter the natural number\"))\n",
    "sum=0\n",
    "count=1\n",
    "while count<=num:\n",
    "    sum+=count\n",
    "    count+=1\n",
    "    \n",
    "print(sum)\n",
    "\n",
    "\n"
   ]
  },
  {
   "cell_type": "code",
   "execution_count": 12,
   "metadata": {},
   "outputs": [
    {
     "name": "stdout",
     "output_type": "stream",
     "text": [
      "15\n"
     ]
    }
   ],
   "source": [
    "num=int(input(\"Enter the natural number\"))\n",
    "sum=0\n",
    "for i in range(1,num+1):\n",
    "    sum+=i\n",
    "print(sum)\n"
   ]
  },
  {
   "cell_type": "code",
   "execution_count": 18,
   "metadata": {},
   "outputs": [
    {
     "name": "stdout",
     "output_type": "stream",
     "text": [
      "The number 7 is Prime\n"
     ]
    }
   ],
   "source": [
    "num=int(input(\"Enter the number\"))\n",
    "\n",
    "for i in range(2,num):\n",
    "    if(num%i==0):\n",
    "        type=\"Composite\"\n",
    "        break\n",
    "    else:\n",
    "        type=\"Prime\"\n",
    "\n",
    "\n",
    "print(f\"The number {num} is {type}\")"
   ]
  }
 ],
 "metadata": {
  "kernelspec": {
   "display_name": "venv",
   "language": "python",
   "name": "python3"
  },
  "language_info": {
   "codemirror_mode": {
    "name": "ipython",
    "version": 3
   },
   "file_extension": ".py",
   "mimetype": "text/x-python",
   "name": "python",
   "nbconvert_exporter": "python",
   "pygments_lexer": "ipython3",
   "version": "3.12.0"
  }
 },
 "nbformat": 4,
 "nbformat_minor": 2
}
