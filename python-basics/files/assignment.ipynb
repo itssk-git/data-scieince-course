{
 "cells": [
  {
   "cell_type": "code",
   "execution_count": 7,
   "metadata": {},
   "outputs": [],
   "source": [
    "#split the file into new file for evry 100 lines\n",
    "def split_file(file,lines=100):\n",
    "    with open(file,\"r\") as file1:\n",
    "        content=file1.readlines()\n",
    "    j=1\n",
    "    for i in range(0,len(content),lines):\n",
    "        with open(f\"{file}_part_{j}\",\"w\") as new_file:\n",
    "            new_file.writelines(content[i:i+lines])\n",
    "        j+=1\n",
    "\n",
    "split_file(\"sample.txt\")\n"
   ]
  },
  {
   "cell_type": "code",
   "execution_count": 39,
   "metadata": {},
   "outputs": [],
   "source": [
    "def split_by_words(file,words=1000):\n",
    "    list1=[]\n",
    "    with open(file,\"r\") as file1:\n",
    "        for line in file1:\n",
    "            content=line.split()\n",
    "            list1.extend(content)\n",
    "            j=1\n",
    "            for i in range(1,len(list1),words):\n",
    "                with open(f\"{file}_part_{j}\",\"w\") as file2:\n",
    "                    file2.write(\" \".join(list1[i:i + words]))\n",
    "                    j+=1\n",
    "    \n",
    "   \n",
    "            \n",
    "        \n",
    "    \n",
    "            \n",
    "            \n",
    "\n",
    "split_by_words(\"sample.txt\")"
   ]
  }
 ],
 "metadata": {
  "kernelspec": {
   "display_name": "venv",
   "language": "python",
   "name": "python3"
  },
  "language_info": {
   "codemirror_mode": {
    "name": "ipython",
    "version": 3
   },
   "file_extension": ".py",
   "mimetype": "text/x-python",
   "name": "python",
   "nbconvert_exporter": "python",
   "pygments_lexer": "ipython3",
   "version": "3.12.0"
  }
 },
 "nbformat": 4,
 "nbformat_minor": 2
}
