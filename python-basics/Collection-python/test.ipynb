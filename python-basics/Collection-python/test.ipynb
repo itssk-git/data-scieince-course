{
 "cells": [
  {
   "cell_type": "code",
   "execution_count": 8,
   "metadata": {},
   "outputs": [
    {
     "name": "stdout",
     "output_type": "stream",
     "text": [
      "0\n",
      "2648061009984\n",
      "['Banana', 'Grapes', 'Watermelon']\n",
      "2648061009984\n"
     ]
    }
   ],
   "source": [
    "fruits=[\"Grapes\",\"Banana\"]\n",
    "fruits.insert(0,\"Apple\")\n",
    "print(fruits.index(\"Apple\"))\n",
    "print(id(fruits))\n",
    "fruits[0]=\"Watermelon\"\n",
    "print(fruits[-1::-1])\n",
    "print(id(fruits))"
   ]
  },
  {
   "cell_type": "code",
   "execution_count": 17,
   "metadata": {},
   "outputs": [
    {
     "name": "stdout",
     "output_type": "stream",
     "text": [
      "['Toyota', 'Honda', 'Mustang']\n",
      "['Toyota', 'Honda', 'Mustang', 'Mazda']\n",
      "oy\n",
      "on\n",
      "us\n",
      "az\n",
      "['Toyota', 'Honda', 'Mustang', 'Mazda', 'Toyota']\n",
      "2\n"
     ]
    }
   ],
   "source": [
    "cars=[\"Toyota\",\"Honda\",\"Mustang\"]\n",
    "print(cars)\n",
    "cars.append(\"Mazda\")\n",
    "print(cars)\n",
    "for i in cars:\n",
    "    print(i[1:3])\n",
    "cars.append(\"Toyota\")\n",
    "print(cars)\n",
    "print(cars.count(\"Toyota\"))"
   ]
  },
  {
   "cell_type": "code",
   "execution_count": 19,
   "metadata": {},
   "outputs": [
    {
     "name": "stdout",
     "output_type": "stream",
     "text": [
      "[]\n",
      "[]\n"
     ]
    }
   ],
   "source": [
    "print(fruits)\n",
    "fruits.clear()\n",
    "print(fruits)"
   ]
  },
  {
   "cell_type": "code",
   "execution_count": 21,
   "metadata": {},
   "outputs": [
    {
     "name": "stdout",
     "output_type": "stream",
     "text": [
      "0,Toyota\n",
      "1,Honda\n",
      "2,Mustang\n",
      "3,Helcat\n"
     ]
    }
   ],
   "source": [
    "cars=[\"Toyota\",\"Honda\",\"Mustang\",\"Helcat\"]\n",
    "for index, value in enumerate(cars):\n",
    "    print(index, value, sep=(\",\"))\n"
   ]
  },
  {
   "cell_type": "code",
   "execution_count": 27,
   "metadata": {},
   "outputs": [
    {
     "name": "stdout",
     "output_type": "stream",
     "text": [
      "[9, 36, 81]\n"
     ]
    }
   ],
   "source": [
    "l1=[x**2 for x in range(1,11) if x%3==0]\n",
    "print(l1)"
   ]
  },
  {
   "cell_type": "code",
   "execution_count": 29,
   "metadata": {},
   "outputs": [
    {
     "name": "stdout",
     "output_type": "stream",
     "text": [
      "[['Sachin', 20], ['Diwa', 16], ['Nirman', 42], ['Sahil', 81]]\n"
     ]
    }
   ],
   "source": [
    "student=[\"Sachin\",\"Diwa\",\"Nirman\",\"Sahil\"]\n",
    "age=[20,16,42,81]\n",
    "l1=[[i,j] for i,j in zip(student,age)]\n",
    "print(l1)"
   ]
  }
 ],
 "metadata": {
  "kernelspec": {
   "display_name": "Python 3",
   "language": "python",
   "name": "python3"
  },
  "language_info": {
   "codemirror_mode": {
    "name": "ipython",
    "version": 3
   },
   "file_extension": ".py",
   "mimetype": "text/x-python",
   "name": "python",
   "nbconvert_exporter": "python",
   "pygments_lexer": "ipython3",
   "version": "3.12.0"
  }
 },
 "nbformat": 4,
 "nbformat_minor": 2
}
