{
 "cells": [
  {
   "cell_type": "code",
   "execution_count": 60,
   "metadata": {},
   "outputs": [
    {
     "name": "stdout",
     "output_type": "stream",
     "text": [
      "55\n"
     ]
    }
   ],
   "source": [
    "def fibo(n):\n",
    "    if n==0:\n",
    "        return 0\n",
    "    if n==1:\n",
    "        return 1\n",
    "    else:\n",
    "        return fibo(n-1)+fibo(n-2)\n",
    "print(fibo(10))\n"
   ]
  },
  {
   "cell_type": "code",
   "execution_count": 67,
   "metadata": {},
   "outputs": [
    {
     "name": "stdout",
     "output_type": "stream",
     "text": [
      "137347080577163115432025771710279131845700275212767467264610201\n"
     ]
    }
   ],
   "source": [
    "def fibo(n, memo={}):\n",
    "    if n in memo:\n",
    "        return memo[n]\n",
    "    if n<=1:\n",
    "        return n\n",
    "    memo[n]=fibo(n-1,memo)+fibo(n-2,memo)\n",
    "    return memo[n]\n",
    "\n",
    "print(fibo(299))\n"
   ]
  },
  {
   "cell_type": "code",
   "execution_count": 92,
   "metadata": {},
   "outputs": [
    {
     "name": "stdout",
     "output_type": "stream",
     "text": [
      "{5: 25}\n"
     ]
    }
   ],
   "source": [
    "def my_func(a,b=None):\n",
    "    if b is None:\n",
    "        b={}\n",
    "    b[a]=a**2\n",
    "    return b\n",
    "print(my_func(5))\n",
    "    "
   ]
  },
  {
   "cell_type": "code",
   "execution_count": 81,
   "metadata": {},
   "outputs": [
    {
     "data": {
      "text/plain": [
       "{'tax': 8.8}"
      ]
     },
     "execution_count": 81,
     "metadata": {},
     "output_type": "execute_result"
    }
   ],
   "source": [
    "def fil_float(**kwargs):\n",
    "    return {k:v for k,v in kwargs.items() if isinstance(v,float)}\n",
    "\n",
    "fil_float(name=\"Sachin\",tax=8.8)"
   ]
  },
  {
   "cell_type": "code",
   "execution_count": 96,
   "metadata": {},
   "outputs": [
    {
     "name": "stdout",
     "output_type": "stream",
     "text": [
      "{5: 25}\n"
     ]
    }
   ],
   "source": [
    "def my_func(a,b=None):\n",
    "    if b is None:\n",
    "        b={}\n",
    "    b[a]=a**2\n",
    "    return b\n",
    "print(my_func(5))"
   ]
  },
  {
   "cell_type": "code",
   "execution_count": 102,
   "metadata": {},
   "outputs": [
    {
     "name": "stdout",
     "output_type": "stream",
     "text": [
      "{'name': 5, 'age': 7}\n"
     ]
    }
   ],
   "source": [
    "def my_function(**kwargs):\n",
    "    return {k:v for k,v in kwargs.items() if isinstance(v,int)}\n",
    "\n",
    "print(my_function(name=5,age=7,grade=\"Nursery\"))"
   ]
  },
  {
   "cell_type": "code",
   "execution_count": 104,
   "metadata": {},
   "outputs": [
    {
     "name": "stdout",
     "output_type": "stream",
     "text": [
      "[1, 4, 9, 16, 25]\n"
     ]
    }
   ],
   "source": [
    "def my_func(callback_func, numbers):\n",
    "    return list(map(callback_func,numbers))\n",
    "\n",
    "y=my_func(lambda x:x**2,[1,2,3,4,5])\n",
    "\n",
    "print(y)\n"
   ]
  },
  {
   "cell_type": "code",
   "execution_count": 119,
   "metadata": {},
   "outputs": [
    {
     "name": "stdout",
     "output_type": "stream",
     "text": [
      "6\n"
     ]
    }
   ],
   "source": [
    "def my_func(x):\n",
    "    def my_func1():\n",
    "        return x*2\n",
    "    return my_func1\n",
    "result=my_func(3)\n",
    "print(result())"
   ]
  }
 ],
 "metadata": {
  "kernelspec": {
   "display_name": "Python 3",
   "language": "python",
   "name": "python3"
  },
  "language_info": {
   "codemirror_mode": {
    "name": "ipython",
    "version": 3
   },
   "file_extension": ".py",
   "mimetype": "text/x-python",
   "name": "python",
   "nbconvert_exporter": "python",
   "pygments_lexer": "ipython3",
   "version": "3.12.0"
  }
 },
 "nbformat": 4,
 "nbformat_minor": 2
}
