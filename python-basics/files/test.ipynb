{
 "cells": [
  {
   "cell_type": "code",
   "execution_count": 19,
   "metadata": {},
   "outputs": [
    {
     "name": "stdout",
     "output_type": "stream",
     "text": [
      "{'S': 1, 'a': 5, 'c': 1, 'h': 1, 'i': 5, 'n': 2, ' ': 8, 'K': 1, 'r': 1, 'k': 1, 's': 1, 'g': 0, 'o': 2, 'd': 0, 'b': 0, 'y': 1, '\\n': 1, 'M': 0, 'm': 0, 'e': 0}\n"
     ]
    }
   ],
   "source": [
    "list1={}\n",
    "with open(\"file1.txt\",\"r\") as file1:\n",
    "    for line in file1:\n",
    "        for i in line:\n",
    "            characters=i.strip().lower()\n",
    "            if i not in list1:\n",
    "                list1[i]=0\n",
    "            else:\n",
    "                list1[i]+=1\n",
    "print(list1)\n",
    "        \n",
    "\n",
    "\n",
    "\n",
    "    \n",
    "        \n",
    "    "
   ]
  },
  {
   "cell_type": "code",
   "execution_count": 31,
   "metadata": {},
   "outputs": [],
   "source": [
    "with open(\"file1.txt\",\"w+\") as file1:\n",
    "    file1.write(\"Hello Sachin\")"
   ]
  },
  {
   "cell_type": "code",
   "execution_count": 32,
   "metadata": {},
   "outputs": [
    {
     "name": "stdout",
     "output_type": "stream",
     "text": [
      "Hello Sachin\n"
     ]
    }
   ],
   "source": [
    "\n",
    "with open(\"file1.txt\",\"r+\") as file1:\n",
    "    content=file1.read()\n",
    "    print(content)\n"
   ]
  },
  {
   "cell_type": "code",
   "execution_count": 44,
   "metadata": {},
   "outputs": [
    {
     "name": "stdout",
     "output_type": "stream",
     "text": [
      "Hi sachin\n",
      "I am the king of the world\n",
      "First line\n",
      "Second line\n",
      "Third line\n"
     ]
    }
   ],
   "source": [
    "with open(\"file1.txt\",\"r\") as file1:\n",
    "    for line in file1:\n",
    "        print(line.strip())\n"
   ]
  },
  {
   "cell_type": "code",
   "execution_count": 40,
   "metadata": {},
   "outputs": [],
   "source": [
    "with open(\"file1.txt\",\"w\") as file2:\n",
    "    file2.write(\"Hi sachin\\n\")"
   ]
  },
  {
   "cell_type": "code",
   "execution_count": 41,
   "metadata": {},
   "outputs": [],
   "source": [
    "with open(\"file1.txt\",\"a\") as file1:\n",
    "    file1.write(\"I am the king of the world\\n\")"
   ]
  },
  {
   "cell_type": "code",
   "execution_count": 43,
   "metadata": {},
   "outputs": [],
   "source": [
    "lines=[\"First line\\n\",\"Second line\\n\",\"Third line\\n\"]\n",
    "with open(\"file1.txt\",\"a\") as file1:\n",
    "    file1.writelines(lines)"
   ]
  },
  {
   "cell_type": "code",
   "execution_count": 51,
   "metadata": {},
   "outputs": [],
   "source": [
    "with open(\"example.bin\",\"wb\") as file1:\n",
    "    file1.write(b\"Hi my name is Sachin Karki\")\n",
    "    "
   ]
  },
  {
   "cell_type": "code",
   "execution_count": 52,
   "metadata": {},
   "outputs": [
    {
     "name": "stdout",
     "output_type": "stream",
     "text": [
      "b'Hi my name is Sachin Karki'\n"
     ]
    }
   ],
   "source": [
    "with open(\"example.bin\",\"rb\") as file1:\n",
    "    content=file1.read()\n",
    "    print(content)\n",
    "    "
   ]
  },
  {
   "cell_type": "code",
   "execution_count": 64,
   "metadata": {},
   "outputs": [
    {
     "name": "stdout",
     "output_type": "stream",
     "text": [
      "['My name is Sachin Karki\\n', 'I live in the States.\\n']\n"
     ]
    }
   ],
   "source": [
    "list1=[]\n",
    "with open(\"src.txt\",\"r\") as src:\n",
    "    for lines in src:\n",
    "        content=lines\n",
    "        list1.append(content)\n",
    "\n",
    "print(list1)\n",
    "with open(\"dest.txt\",\"a\") as dest:\n",
    "    dest.writelines(list1)"
   ]
  },
  {
   "cell_type": "code",
   "execution_count": 83,
   "metadata": {},
   "outputs": [
    {
     "name": "stdout",
     "output_type": "stream",
     "text": [
      "{'M': 2, 'y': 2, ' ': 14, 'n': 4, 'a': 6, 'm': 1, 'e': 8, 'i': 7, 's': 6, 'S': 2, 'c': 1, 'h': 4, 'K': 1, 'r': 3, 'k': 1, '\\n': 4, 'I': 1, 'l': 3, 'v': 2, 't': 7, '.': 1, 'b': 1, 'o': 2}\n",
      "{'my': 2, 'name': 1, 'is': 1, 'sachin': 1, 'karki': 1, 'i': 1, 'live': 1, 'in': 2, 'the': 2, 'states.': 1, 'brother': 1, 'also': 1, 'lives': 1, 'states': 1}\n"
     ]
    }
   ],
   "source": [
    "char_count={}\n",
    "word_count={}\n",
    "with open(\"src.txt\",\"r\") as file1:\n",
    "    for line in file1:\n",
    "        for words in line:\n",
    "            if words not in char_count:\n",
    "                char_count[words]=1\n",
    "            else:\n",
    "                char_count[words]+=1\n",
    "print(char_count)\n",
    "with open(\"src.txt\",\"r\") as file1:\n",
    "    for line in file1:\n",
    "        words=line.split()\n",
    "        for word in words:\n",
    "            word=word.lower()\n",
    "            if word not in word_count:\n",
    "                word_count[word]=1\n",
    "            else:\n",
    "                word_count[word]+=1\n",
    "\n",
    "       \n",
    "\n",
    "print(word_count)\n"
   ]
  },
  {
   "cell_type": "code",
   "execution_count": 96,
   "metadata": {},
   "outputs": [
    {
     "data": {
      "text/plain": [
       "(19, 24)"
      ]
     },
     "execution_count": 96,
     "metadata": {},
     "output_type": "execute_result"
    }
   ],
   "source": [
    "\n",
    "def count_file_prop(file):\n",
    "    with open(file,\"r\" ) as file1:\n",
    "        lines=file1.readline()\n",
    "        line_count=len(lines)\n",
    "        word_count=sum(len(line.split()) for line in lines)\n",
    "    return word_count,line_count\n",
    "\n",
    "file_path=\"src.txt\"\n",
    "count_file_prop(file_path)\n"
   ]
  },
  {
   "cell_type": "code",
   "execution_count": null,
   "metadata": {},
   "outputs": [],
   "source": []
  }
 ],
 "metadata": {
  "kernelspec": {
   "display_name": "venv",
   "language": "python",
   "name": "python3"
  },
  "language_info": {
   "codemirror_mode": {
    "name": "ipython",
    "version": 3
   },
   "file_extension": ".py",
   "mimetype": "text/x-python",
   "name": "python",
   "nbconvert_exporter": "python",
   "pygments_lexer": "ipython3",
   "version": "3.12.0"
  }
 },
 "nbformat": 4,
 "nbformat_minor": 2
}
