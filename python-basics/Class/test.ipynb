{
 "cells": [
  {
   "cell_type": "code",
   "execution_count": 5,
   "metadata": {},
   "outputs": [
    {
     "name": "stdout",
     "output_type": "stream",
     "text": [
      "<__main__.Car object at 0x000001A297D67E00>\n"
     ]
    },
    {
     "data": {
      "text/plain": [
       "<bound method Car.windows of <__main__.Car object at 0x000001A297D67E00>>"
      ]
     },
     "execution_count": 5,
     "metadata": {},
     "output_type": "execute_result"
    }
   ],
   "source": [
    "class Car:\n",
    "    windows=10\n",
    "    def windows():\n",
    "        pass\n",
    "    \n",
    "    pass\n",
    "\n",
    "audi=Car()\n",
    "print(audi)\n",
    "audi.windows"
   ]
  },
  {
   "cell_type": "code",
   "execution_count": 6,
   "metadata": {},
   "outputs": [
    {
     "data": {
      "text/plain": [
       "['__class__',\n",
       " '__delattr__',\n",
       " '__dict__',\n",
       " '__dir__',\n",
       " '__doc__',\n",
       " '__eq__',\n",
       " '__format__',\n",
       " '__ge__',\n",
       " '__getattribute__',\n",
       " '__getstate__',\n",
       " '__gt__',\n",
       " '__hash__',\n",
       " '__init__',\n",
       " '__init_subclass__',\n",
       " '__le__',\n",
       " '__lt__',\n",
       " '__module__',\n",
       " '__ne__',\n",
       " '__new__',\n",
       " '__reduce__',\n",
       " '__reduce_ex__',\n",
       " '__repr__',\n",
       " '__setattr__',\n",
       " '__sizeof__',\n",
       " '__str__',\n",
       " '__subclasshook__',\n",
       " '__weakref__',\n",
       " 'windows']"
      ]
     },
     "execution_count": 6,
     "metadata": {},
     "output_type": "execute_result"
    }
   ],
   "source": [
    "dir(audi)"
   ]
  },
  {
   "cell_type": "code",
   "execution_count": 18,
   "metadata": {},
   "outputs": [],
   "source": [
    "class Dog:\n",
    "\n",
    "    def __init__(self,name,age):\n",
    "        self.name=name\n",
    "        self.age=age\n",
    "    def intro(self):\n",
    "        print(f\"Hi I am {self.name} and i am {self.age} years old\")"
   ]
  },
  {
   "cell_type": "code",
   "execution_count": 19,
   "metadata": {},
   "outputs": [
    {
     "name": "stdout",
     "output_type": "stream",
     "text": [
      "Rim\n",
      "42\n",
      "Hi I am Rim and i am 42 years old\n"
     ]
    }
   ],
   "source": [
    "lab=Dog(\"Rim\",42)\n",
    "print(lab.name)\n",
    "print(lab.age)\n",
    "lab.intro()"
   ]
  },
  {
   "cell_type": "code",
   "execution_count": 23,
   "metadata": {},
   "outputs": [
    {
     "name": "stdout",
     "output_type": "stream",
     "text": [
      "4376\n"
     ]
    }
   ],
   "source": [
    "class BankAccount:\n",
    "    def __init__(self,name,balance):\n",
    "        self.name=name\n",
    "        self.balance=balance\n",
    "\n",
    "    def deposit(self, amount):\n",
    "        self.balance+=amount\n",
    "    def withdraw(self, amount):\n",
    "        self.balance-=amount\n",
    "\n",
    "sachin=BankAccount(\"Sachin\",8976)\n",
    "sachin.deposit(400)\n",
    "sachin.withdraw(5000)\n",
    "print(sachin.balance)"
   ]
  },
  {
   "cell_type": "code",
   "execution_count": 1,
   "metadata": {},
   "outputs": [],
   "source": [
    "class Bank:\n",
    "    def __init__(self,name,branch):\n",
    "        self.name=name\n",
    "        self.branch=branch"
   ]
  },
  {
   "cell_type": "code",
   "execution_count": null,
   "metadata": {},
   "outputs": [
    {
     "name": "stdout",
     "output_type": "stream",
     "text": [
      "Rim is barking\n",
      "None\n"
     ]
    }
   ],
   "source": [
    "class Dog:\n",
    "    def __init__(self,name,age):\n",
    "        self.name=name\n",
    "        self.age=age\n",
    "    def bark(self):\n",
    "        print(f\"{self.name} is barking\")\n",
    "\n",
    "      \n",
    "        \n",
    "\n",
    "dog1=Dog(\"Rim\",12) \n",
    "print(f\"{dog1.bark()}\")\n",
    "\n"
   ]
  },
  {
   "cell_type": "code",
   "execution_count": 4,
   "metadata": {},
   "outputs": [],
   "source": [
    "class Car:\n",
    "    def __init__(self, make, model, year):\n",
    "        self.make=make\n",
    "        self.model=model\n",
    "        self.year=year\n",
    "    def get_attr(self):\n",
    "        list1={self.make,self.model,self.year}\n",
    "        return list1\n",
    "    \n",
    "car1= Car(\"2015\",\"ELectric\",2020)\n",
    "\n"
   ]
  },
  {
   "cell_type": "code",
   "execution_count": 9,
   "metadata": {},
   "outputs": [
    {
     "name": "stdout",
     "output_type": "stream",
     "text": [
      "The person will drive the Petrol car\n"
     ]
    }
   ],
   "source": [
    "class Car:\n",
    "    def __init__(self,windows,doors,engienetype):\n",
    "        self.windows=windows\n",
    "        self.doors=doors\n",
    "        self.engienetype=engienetype\n",
    "    \n",
    "    def drive(self):\n",
    "        print(f\"The person will drive the {self.engienetype} car\")\n",
    "\n",
    "\n",
    "audi=Car(4,4,\"Petrol\")\n",
    "audi.drive()\n",
    "\n",
    "\n",
    "\n"
   ]
  },
  {
   "cell_type": "code",
   "execution_count": 16,
   "metadata": {},
   "outputs": [
    {
     "name": "stdout",
     "output_type": "stream",
     "text": [
      "Tesla supports self driving:True\n",
      "The person will drive the electric car\n"
     ]
    }
   ],
   "source": [
    "class Tesla(Car):\n",
    "    def __init__(self,windows,doors,engienetype,is_selfdriving):\n",
    "        super().__init__(windows,doors,engienetype)\n",
    "        self.is_selfdriving=is_selfdriving\n",
    "    \n",
    "    def selfdriving(self):\n",
    "        print(f\"Tesla supports self driving:{self.is_selfdriving}\")\n",
    "        \n",
    "\n",
    "tesla=Tesla(2,2,\"electric\",True)\n",
    "tesla.selfdriving()\n",
    "tesla.drive()"
   ]
  },
  {
   "cell_type": "code",
   "execution_count": 22,
   "metadata": {},
   "outputs": [
    {
     "name": "stdout",
     "output_type": "stream",
     "text": [
      "{'Audi R8': 'Sachin Karki'}\n"
     ]
    }
   ],
   "source": [
    "class Car:\n",
    "    def __init__(self,name):\n",
    "        self.name=name\n",
    "    def info(self):\n",
    "        print(f\"It is a {self.name} \")\n",
    "\n",
    "class Owner:\n",
    "    def __init__(self,owner_name):\n",
    "        self.owner_name=owner_name\n",
    "\n",
    "\n",
    "class Audi:\n",
    "    def __init__(self,name,owner_name):\n",
    "        Car.__init__(self,name)\n",
    "        Owner.__init__(self,owner_name)\n",
    "    \n",
    "    def show_details(self):\n",
    "        details={self.name:self.owner_name}\n",
    "        return details\n",
    "\n",
    "a1=Audi(\"Audi R8\",\"Sachin Karki\")\n",
    "print(a1.show_details())"
   ]
  },
  {
   "cell_type": "code",
   "execution_count": 28,
   "metadata": {},
   "outputs": [
    {
     "name": "stdout",
     "output_type": "stream",
     "text": [
      "Rim says woof woof\n",
      "Ovverride in child class\n"
     ]
    }
   ],
   "source": [
    "class Animal:\n",
    "    def __init__(self, type, habitat):\n",
    "        self.type=type\n",
    "        self.habitat=habitat\n",
    "    def sound(self):\n",
    "        print(\"Ovverride in child class\")\n",
    "\n",
    "class Dog(Animal):\n",
    "    def __init__(self,name ,type,habitat):\n",
    "        super().__init__(type,habitat)\n",
    "        self.name=name\n",
    "    \n",
    "    def sound(self):\n",
    "        print(f\"{self.name} says woof woof\")\n",
    "    \n",
    "\n",
    "cat=Animal(\"Mammal\",\"land\")\n",
    "dog1=Dog(\"Rim\",\"Mammal\",\"land\")\n",
    "dog1.sound()\n",
    "cat.sound()"
   ]
  },
  {
   "cell_type": "code",
   "execution_count": 35,
   "metadata": {},
   "outputs": [
    {
     "name": "stdout",
     "output_type": "stream",
     "text": [
      "Bus is driving on the road\n",
      "Car is driving on the road\n",
      "Bike is driving on the road\n"
     ]
    }
   ],
   "source": [
    "class Vechicle:\n",
    "    def __init__(self,vechicle_type,capacity):\n",
    "        self.vechicle_type=vechicle_type\n",
    "        self.capacity=capacity\n",
    "    \n",
    "    def move(self):\n",
    "        print(\"Vechicle is moving\")\n",
    "\n",
    "class Car(Vechicle):\n",
    "    def __init__(self,vechicle_type,capacity):\n",
    "        super().__init__(vechicle_type,capacity)\n",
    "    def move(self):\n",
    "        print(f\"{self.vechicle_type} is driving on the road\")\n",
    "        \n",
    "class Bike(Vechicle):\n",
    "    def __init__(self,vechicle_type,capacity):\n",
    "        super().__init__(vechicle_type,capacity)\n",
    "    def move(self):\n",
    "        print(f\"{self.vechicle_type} is driving on the road\")\n",
    "\n",
    "class Bus(Vechicle):\n",
    "    def __init__(self,vechicle_type,capacity):\n",
    "        super().__init__(vechicle_type,capacity)\n",
    "    def move(self):\n",
    "        print(f\"{self.vechicle_type} is driving on the road\")\n",
    "\n",
    "bus1=Bus(\"Bus\",90)\n",
    "car1=Car(\"Car\",5)\n",
    "bike1=Bike(\"Bike\",2)\n",
    "\n",
    "bus1.move()\n",
    "car1.move()\n",
    "bike1.move()"
   ]
  },
  {
   "cell_type": "code",
   "execution_count": null,
   "metadata": {},
   "outputs": [
    {
     "name": "stdout",
     "output_type": "stream",
     "text": [
      "Deposited $500. New balance: $1500\n",
      "Interest: $75.0\n",
      "Withdrew $1200. New balance: $300\n",
      "Withdrew $700. New balance: $-200\n",
      "Overdraft limit exceeded.\n",
      "Overdraft limit exceeded.\n"
     ]
    }
   ],
   "source": [
    "class Account:\n",
    "    def __init__(self, account_number, holder_name, balance):\n",
    "        self.account_number = account_number\n",
    "        self.holder_name = holder_name\n",
    "        self.balance = balance\n",
    "\n",
    "    def deposit(self, amount):\n",
    "        self.balance += amount\n",
    "        print(f\"Deposited ${amount}. New balance: ${self.balance}\")\n",
    "\n",
    "    def withdraw(self, amount):\n",
    "        if amount <= self.balance:\n",
    "            self.balance -= amount\n",
    "            print(f\"Withdrew ${amount}. New balance: ${self.balance}\")\n",
    "        else:\n",
    "            print(\"Insufficient balance.\")\n",
    "\n",
    "class SavingsAccount(Account):\n",
    "    def __init__(self, account_number, holder_name, balance, interest_rate):\n",
    "        super().__init__(account_number, holder_name, balance)\n",
    "        self.interest_rate = interest_rate\n",
    "\n",
    "    def calculate_interest(self):\n",
    "        interest = self.balance * self.interest_rate / 100\n",
    "        print(f\"Interest: ${interest}\")\n",
    "        return interest\n",
    "\n",
    "class CurrentAccount(Account):\n",
    "    def __init__(self, account_number, holder_name, balance, overdraft_limit):\n",
    "        super().__init__(account_number, holder_name, balance)\n",
    "        self.overdraft_limit = overdraft_limit\n",
    "\n",
    "    def withdraw(self, amount):\n",
    "        if amount <= self.balance + self.overdraft_limit:\n",
    "            self.balance -= amount\n",
    "            print(f\"Withdrew ${amount}. New balance: ${self.balance}\")\n",
    "        else:\n",
    "            print(\"Overdraft limit exceeded.\")\n",
    "\n",
    "savings = SavingsAccount(\"12345\", \"Alice\", 1000, 5)\n",
    "current = CurrentAccount(\"67890\", \"Bob\", 500, 300)\n",
    "\n",
    "savings.deposit(500)\n",
    "savings.calculate_interest()\n",
    "savings.withdraw(1200)\n",
    "\n",
    "current.withdraw(700)\n",
    "current.withdraw(200)\n",
    "current.withdraw(200)\n"
   ]
  },
  {
   "cell_type": "code",
   "execution_count": 11,
   "metadata": {},
   "outputs": [
    {
     "data": {
      "text/plain": [
       "3"
      ]
     },
     "execution_count": 11,
     "metadata": {},
     "output_type": "execute_result"
    }
   ],
   "source": [
    "class Counter:\n",
    "    count = 0\n",
    "\n",
    "    def __init__(self):\n",
    "        Counter.count += 1\n",
    "\n",
    "    @classmethod\n",
    "    def get_count(cls):\n",
    "        return cls.count\n",
    "    \n",
    "\n",
    "c1=Counter()\n",
    "c3=Counter()\n",
    "c2=Counter()\n",
    "c1.get_count()\n"
   ]
  }
 ],
 "metadata": {
  "kernelspec": {
   "display_name": "venv",
   "language": "python",
   "name": "python3"
  },
  "language_info": {
   "codemirror_mode": {
    "name": "ipython",
    "version": 3
   },
   "file_extension": ".py",
   "mimetype": "text/x-python",
   "name": "python",
   "nbconvert_exporter": "python",
   "pygments_lexer": "ipython3",
   "version": "3.12.0"
  }
 },
 "nbformat": 4,
 "nbformat_minor": 2
}
