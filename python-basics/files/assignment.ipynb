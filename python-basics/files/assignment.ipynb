{
 "cells": [
  {
   "cell_type": "code",
   "execution_count": 7,
   "metadata": {},
   "outputs": [],
   "source": [
    "#split the file into new file for evry 100 lines\n",
    "def split_file(file,lines=100):\n",
    "    with open(file,\"r\") as file1:\n",
    "        content=file1.readlines()\n",
    "    j=1\n",
    "    for i in range(0,len(content),lines):\n",
    "        with open(f\"{file}_part_{j}\",\"w\") as new_file:\n",
    "            new_file.writelines(content[i:i+lines])\n",
    "        j+=1\n",
    "\n",
    "split_file(\"sample.txt\")\n"
   ]
  }
 ],
 "metadata": {
  "kernelspec": {
   "display_name": "venv",
   "language": "python",
   "name": "python3"
  },
  "language_info": {
   "codemirror_mode": {
    "name": "ipython",
    "version": 3
   },
   "file_extension": ".py",
   "mimetype": "text/x-python",
   "name": "python",
   "nbconvert_exporter": "python",
   "pygments_lexer": "ipython3",
   "version": "3.12.0"
  }
 },
 "nbformat": 4,
 "nbformat_minor": 2
}
