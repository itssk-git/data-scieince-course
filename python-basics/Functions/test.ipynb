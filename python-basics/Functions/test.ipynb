{
 "cells": [
  {
   "cell_type": "code",
   "execution_count": 2,
   "metadata": {},
   "outputs": [
    {
     "name": "stdout",
     "output_type": "stream",
     "text": [
      "Hello Sachin\n",
      "Hello Diwa\n"
     ]
    }
   ],
   "source": [
    "def greet(*args):\n",
    "    for i in args:\n",
    "        print(f\"Hello {i}\")\n",
    "greet(\"Sachin\", \"Diwa\")\n"
   ]
  },
  {
   "cell_type": "code",
   "execution_count": 4,
   "metadata": {},
   "outputs": [
    {
     "name": "stdout",
     "output_type": "stream",
     "text": [
      "name Sachin\n",
      "age 32\n",
      "country Nepal\n"
     ]
    }
   ],
   "source": [
    "def print_details(**kwargs):\n",
    "    for key,value in kwargs.items():\n",
    "        print(key, value)\n",
    "print_details(name=\"Sachin\",age=32,country=\"Nepal\")"
   ]
  },
  {
   "cell_type": "code",
   "execution_count": 7,
   "metadata": {},
   "outputs": [
    {
     "name": "stdout",
     "output_type": "stream",
     "text": [
      "Sachin\n",
      "Nirman\n",
      "name Diwa\n"
     ]
    }
   ],
   "source": [
    "def greet(*args,**kwargs):\n",
    "    for i in args:\n",
    "        print(i)\n",
    "    for k,v in kwargs.items():\n",
    "        print(k,v)\n",
    "greet(\"Sachin\",\"Nirman\",name=\"Diwa\")"
   ]
  },
  {
   "cell_type": "code",
   "execution_count": 10,
   "metadata": {},
   "outputs": [
    {
     "name": "stdout",
     "output_type": "stream",
     "text": [
      "393120\n"
     ]
    }
   ],
   "source": [
    "##Return statement\n",
    "\n",
    "def multiply(*args):\n",
    "    mul=1\n",
    "    for i in args:\n",
    "        mul*=i\n",
    "    return mul\n",
    "\n",
    "print(multiply(1,2,3,4,5,6,7,78))"
   ]
  },
  {
   "cell_type": "code",
   "execution_count": 12,
   "metadata": {},
   "outputs": [
    {
     "name": "stdout",
     "output_type": "stream",
     "text": [
      "212.0\n"
     ]
    }
   ],
   "source": [
    "def tempToF(cel):\n",
    "    f=(9*cel/5)+32\n",
    "    return f\n",
    "print(tempToF(100))"
   ]
  },
  {
   "cell_type": "code",
   "execution_count": 23,
   "metadata": {},
   "outputs": [
    {
     "name": "stdout",
     "output_type": "stream",
     "text": [
      "True\n",
      "Youre logged in\n"
     ]
    }
   ],
   "source": [
    "def is_strong(password):\n",
    "    \"\"\"This checks if this is strong or not\"\"\"\n",
    "    if len(password)<8:\n",
    "        return False\n",
    "    if not any(char.isdigit() for char in password):\n",
    "        return False\n",
    "    if not any(char.islower() for char in password):\n",
    "        return False\n",
    "    if not any(char.isupper() for char in password):\n",
    "        return False\n",
    "    if not any(char in \"@$%#&*^)(\"   for char in password):\n",
    "        return False\n",
    "    return True\n",
    "print(is_strong(\"Sachin@123\"))\n",
    "if (is_strong(\"Sachin@123\")==1):\n",
    "    print(\"Youre logged in\")\n",
    "\n"
   ]
  },
  {
   "cell_type": "code",
   "execution_count": 37,
   "metadata": {},
   "outputs": [
    {
     "name": "stdout",
     "output_type": "stream",
     "text": [
      "$198.3\n"
     ]
    }
   ],
   "source": [
    "def calculate_total_cost(cart):\n",
    "    total_cost=0\n",
    "    for items in cart:\n",
    "        total_cost+=items[\"price\"]*items[\"quant\"]\n",
    "    return total_cost\n",
    "\n",
    "cart=[\n",
    "    {'name':\"Apple\",'price':32.1,\"quant\":3},\n",
    "    {'name':\"Orange\",'price':31,\"quant\":3},\n",
    "    {'name':\"Banana\",'price':3,\"quant\":3}\n",
    "]\n",
    "\n",
    "price=calculate_total_cost(cart)\n",
    "print(f\"${price}\")"
   ]
  },
  {
   "cell_type": "code",
   "execution_count": 43,
   "metadata": {},
   "outputs": [
    {
     "data": {
      "text/plain": [
       "True"
      ]
     },
     "execution_count": 43,
     "metadata": {},
     "output_type": "execute_result"
    }
   ],
   "source": [
    "def check_palindrome(value):\n",
    "    if(value[::1]==value[::-1]):\n",
    "        return True\n",
    "    return False\n",
    "\n",
    "check_palindrome(\"123321 123321\")"
   ]
  },
  {
   "cell_type": "code",
   "execution_count": 49,
   "metadata": {},
   "outputs": [
    {
     "name": "stdout",
     "output_type": "stream",
     "text": [
      "120\n"
     ]
    }
   ],
   "source": [
    "def calc_fact(number):\n",
    "    if number==0:\n",
    "        return 1\n",
    "    else:\n",
    "        return number*calc_fact(number-1)\n",
    "print(calc_fact(5))\n"
   ]
  },
  {
   "cell_type": "code",
   "execution_count": 59,
   "metadata": {},
   "outputs": [
    {
     "name": "stdout",
     "output_type": "stream",
     "text": [
      "{'hi': 1, 'my': 2, 'name': 1, 'is': 2, 'sachin': 1, 'i': 1, 'am': 1, 'a': 1, 'student': 1, 'work': 1, 'pending': 1}\n"
     ]
    }
   ],
   "source": [
    "def count_word_frequency(file_path):\n",
    "    word_count={}\n",
    "    with open(file_path,\"r\") as file1:\n",
    "        for line in file1:\n",
    "            words=line.split()\n",
    "            for word in words:\n",
    "                word=word.lower().strip('.,!?;:')\n",
    "                word_count[word]=word_count.get(word,0)+1\n",
    "\n",
    "    return word_count\n",
    "\n",
    "filepath=\"sample.txt\"\n",
    "word_freq=count_word_frequency(filepath)\n",
    "print(word_freq)\n"
   ]
  },
  {
   "cell_type": "code",
   "execution_count": 3,
   "metadata": {},
   "outputs": [
    {
     "name": "stdout",
     "output_type": "stream",
     "text": [
      "{'m': 5, 'y': 2, ' ': 14, 'n': 5, 'a': 9, 'e': 3, 'i': 5, 's': 4, 'c': 1, 'h': 2, 'k': 3, 'r': 3, 'd': 3, 'o': 4, 't': 4, 'v': 1, 'p': 1, 'w': 1}\n"
     ]
    }
   ],
   "source": [
    "intro=\"My name is Sachin Karki and i am a motivated person that do many works\"\n",
    "words_count={}\n",
    "for i in intro:\n",
    "    word=i.lower()\n",
    "    if word not in words_count:\n",
    "        words_count[word]=1\n",
    "    else:\n",
    "        words_count[word]+=1\n",
    "\n",
    "print(words_count)"
   ]
  },
  {
   "cell_type": "code",
   "execution_count": 8,
   "metadata": {},
   "outputs": [
    {
     "name": "stdout",
     "output_type": "stream",
     "text": [
      "[{'name': 'Apple', 'price': 32.1, 'quant': 3}, {'name': 'Orange', 'price': 31, 'quant': 3}, {'name': 'Banana', 'price': 3, 'quant': 3}]\n"
     ]
    }
   ],
   "source": [
    "##Lambda fucntion\n",
    "\n",
    "\n",
    "cart=[\n",
    "    {'name':\"Apple\",'price':32.1,\"quant\":3},\n",
    "    {'name':\"Orange\",'price':31,\"quant\":3},\n",
    "    {'name':\"Banana\",'price':3,\"quant\":3}\n",
    "]\n",
    "cart1=sorted(cart, key=lambda item: item[\"price\"], reverse=\"True\")\n",
    "print(cart1)\n"
   ]
  },
  {
   "cell_type": "code",
   "execution_count": 10,
   "metadata": {},
   "outputs": [
    {
     "name": "stdout",
     "output_type": "stream",
     "text": [
      "11\n"
     ]
    }
   ],
   "source": [
    "##Lambda function\n",
    "addition=lambda x,y:x+y\n",
    "print(addition(5,6))"
   ]
  },
  {
   "cell_type": "code",
   "execution_count": 12,
   "metadata": {},
   "outputs": [
    {
     "data": {
      "text/plain": [
       "10000"
      ]
     },
     "execution_count": 12,
     "metadata": {},
     "output_type": "execute_result"
    }
   ],
   "source": [
    "def square(x):\n",
    "    return x**2\n",
    "square(100)"
   ]
  },
  {
   "cell_type": "code",
   "execution_count": 13,
   "metadata": {},
   "outputs": [
    {
     "name": "stdout",
     "output_type": "stream",
     "text": [
      "1\n",
      "4\n",
      "9\n",
      "16\n",
      "25\n",
      "36\n",
      "49\n",
      "64\n"
     ]
    }
   ],
   "source": [
    "numbers=[1,2,3,4,5,6,7,8]\n",
    "for x in numbers:\n",
    "    print(square(x))\n"
   ]
  },
  {
   "cell_type": "code",
   "execution_count": 17,
   "metadata": {},
   "outputs": [
    {
     "data": {
      "text/plain": [
       "[1, 4, 9, 16, 25, 36, 49, 64]"
      ]
     },
     "execution_count": 17,
     "metadata": {},
     "output_type": "execute_result"
    }
   ],
   "source": [
    "##or we can use map funcxtion\n",
    "##It takes two parameterss one is function and numbers\n",
    "\n",
    "numbers=[1,2,3,4,5,6,7,8]\n",
    "list(map(square,numbers))"
   ]
  },
  {
   "cell_type": "code",
   "execution_count": 20,
   "metadata": {},
   "outputs": [
    {
     "name": "stdout",
     "output_type": "stream",
     "text": [
      "[1, 4, 9, 16, 25, 36, 49, 49]\n"
     ]
    }
   ],
   "source": [
    "numbers=[1,2,3,4,5,6,7,7]\n",
    "num=list(map(square, numbers))\n",
    "print(num)"
   ]
  },
  {
   "cell_type": "code",
   "execution_count": 23,
   "metadata": {},
   "outputs": [
    {
     "name": "stdout",
     "output_type": "stream",
     "text": [
      "[4, 6, 8, 11, 13]\n"
     ]
    }
   ],
   "source": [
    "numbers1=[1,2,3,4,5]\n",
    "numbers2=[3,4,5,7,8]\n",
    "added_numbers=list(map(lambda x,y: x+y,numbers1,numbers2))\n",
    "print(added_numbers)"
   ]
  },
  {
   "cell_type": "code",
   "execution_count": 31,
   "metadata": {},
   "outputs": [
    {
     "name": "stdout",
     "output_type": "stream",
     "text": [
      "[True, False]\n"
     ]
    }
   ],
   "source": [
    "nums=[\"1\",\"\"]\n",
    "print(list(map(bool,nums)))"
   ]
  },
  {
   "cell_type": "code",
   "execution_count": 35,
   "metadata": {},
   "outputs": [
    {
     "name": "stdout",
     "output_type": "stream",
     "text": [
      "['APPLE', 'BANANA', 'KITKAT']\n"
     ]
    }
   ],
   "source": [
    "fruits=[\"apple\",\"banana\",\"kitkat\"]\n",
    "fruits_upp=list(map(str.upper,fruits))\n",
    "print(fruits_upp)"
   ]
  },
  {
   "cell_type": "code",
   "execution_count": 40,
   "metadata": {},
   "outputs": [
    {
     "name": "stdout",
     "output_type": "stream",
     "text": [
      "['Sachin', 'Diwa', 'Sabin']\n"
     ]
    }
   ],
   "source": [
    "def get_name(person):\n",
    "    return person['name']\n",
    "\n",
    "people=[\n",
    "    {\"name\":\"Sachin\", \"age\":32},\n",
    "    {\"name\":\"Diwa\", \"age\":31},\n",
    "    {\"name\":\"Sabin\", \"age\":76},\n",
    "]\n",
    "\n",
    "names=list(map(get_name,people))\n",
    "print(names)\n"
   ]
  },
  {
   "cell_type": "code",
   "execution_count": 45,
   "metadata": {},
   "outputs": [
    {
     "data": {
      "text/plain": [
       "[True, True, False, True, True, False, True, False, False]"
      ]
     },
     "execution_count": 45,
     "metadata": {},
     "output_type": "execute_result"
    }
   ],
   "source": [
    "#Filter function\n",
    "list1=[2,2,23,4,4,35,43534,4565,5]\n",
    "\n",
    "def is_even(num_list):\n",
    "        if num_list%2==0:\n",
    "            return True\n",
    "        else:\n",
    "            return False\n",
    "        \n",
    "\n",
    "list(map(is_even,list1))\n",
    "    "
   ]
  },
  {
   "cell_type": "code",
   "execution_count": 48,
   "metadata": {},
   "outputs": [
    {
     "data": {
      "text/plain": [
       "[2, 2, 4, 4, 43534]"
      ]
     },
     "execution_count": 48,
     "metadata": {},
     "output_type": "execute_result"
    }
   ],
   "source": [
    "list1=[2,2,23,4,4,35,43534,4565,5]\n",
    "list(filter(is_even,list1))\n"
   ]
  },
  {
   "cell_type": "code",
   "execution_count": 49,
   "metadata": {},
   "outputs": [
    {
     "data": {
      "text/plain": [
       "[23, 35, 43534, 4565]"
      ]
     },
     "execution_count": 49,
     "metadata": {},
     "output_type": "execute_result"
    }
   ],
   "source": [
    "list(filter(lambda x:x>5,list1))"
   ]
  },
  {
   "cell_type": "code",
   "execution_count": 53,
   "metadata": {},
   "outputs": [
    {
     "data": {
      "text/plain": [
       "[4, 4, 43534]"
      ]
     },
     "execution_count": 53,
     "metadata": {},
     "output_type": "execute_result"
    }
   ],
   "source": [
    "list(filter(lambda x:x>2 and x%2==0,list1))"
   ]
  },
  {
   "cell_type": "code",
   "execution_count": 62,
   "metadata": {},
   "outputs": [
    {
     "data": {
      "text/plain": [
       "[{'name': 'Sabin', 'age': 76}]"
      ]
     },
     "execution_count": 62,
     "metadata": {},
     "output_type": "execute_result"
    }
   ],
   "source": [
    "people=[\n",
    "    {\"name\":\"Sachin\", \"age\":32},\n",
    "    {\"name\":\"Diwa\", \"age\":31},\n",
    "    {\"name\":\"Sabin\", \"age\":76},\n",
    "]\n",
    "def get_age_greater_than_five(lst):\n",
    "    return lst[\"age\"]>45\n",
    "list(filter(get_age_greater_than_five,people))"
   ]
  }
 ],
 "metadata": {
  "kernelspec": {
   "display_name": "venv",
   "language": "python",
   "name": "python3"
  },
  "language_info": {
   "codemirror_mode": {
    "name": "ipython",
    "version": 3
   },
   "file_extension": ".py",
   "mimetype": "text/x-python",
   "name": "python",
   "nbconvert_exporter": "python",
   "pygments_lexer": "ipython3",
   "version": "3.12.0"
  }
 },
 "nbformat": 4,
 "nbformat_minor": 2
}
