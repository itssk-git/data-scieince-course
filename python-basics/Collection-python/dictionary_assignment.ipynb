{
 "cells": [
  {
   "cell_type": "code",
   "execution_count": 64,
   "metadata": {},
   "outputs": [
    {
     "name": "stdout",
     "output_type": "stream",
     "text": [
      "<class 'dict'>\n",
      "{'name': 'Sachin', 'id': 'E001', 'grade': 'A'}\n",
      "Sachin\n",
      "E001\n",
      "A\n"
     ]
    }
   ],
   "source": [
    "students={\n",
    "    \"name\":\"Sachin\",\n",
    "    \"id\":\"E001\",\n",
    "    \"grade\":\"A\"\n",
    "\n",
    "}\n",
    "print(type(students))\n",
    "print(students)\n",
    "for key,value in students.items():\n",
    "    print(students[key])"
   ]
  },
  {
   "cell_type": "code",
   "execution_count": 65,
   "metadata": {},
   "outputs": [
    {
     "name": "stdout",
     "output_type": "stream",
     "text": [
      "A\n",
      "Sachin\n"
     ]
    }
   ],
   "source": [
    "#key must be unique\n",
    "\n",
    "employee={\n",
    "    \"name\":\"Sachin\",\n",
    "    \"id\":\"E001\",\n",
    "    \"grade\":\"A\"\n",
    "\n",
    "}\n",
    "print(employee[\"grade\"])\n",
    "print(employee[\"name\"])\n"
   ]
  },
  {
   "cell_type": "code",
   "execution_count": 66,
   "metadata": {},
   "outputs": [
    {
     "name": "stdout",
     "output_type": "stream",
     "text": [
      "Sachin\n"
     ]
    }
   ],
   "source": [
    "#get method can also bee used\n",
    "\n",
    "print(students.get(\"name\"))\n"
   ]
  },
  {
   "cell_type": "code",
   "execution_count": 67,
   "metadata": {},
   "outputs": [
    {
     "name": "stdout",
     "output_type": "stream",
     "text": [
      "Sachin\n"
     ]
    }
   ],
   "source": [
    "print(students.get(\"name\", \"Not Available\"))\n"
   ]
  },
  {
   "cell_type": "code",
   "execution_count": 68,
   "metadata": {},
   "outputs": [
    {
     "name": "stdout",
     "output_type": "stream",
     "text": [
      "2694592402752\n",
      "2694592402752\n",
      "{'name': 'Rabin', 'id': 'E001', 'grade': 'A', 'address': 'Kirtipur'}\n"
     ]
    }
   ],
   "source": [
    "print(id(students))\n",
    "students[\"name\"]=\"Rabin\"\n",
    "print(id(students))\n",
    "students[\"address\"]=\"Kirtipur\"\n",
    "print(students)\n",
    "\n"
   ]
  },
  {
   "cell_type": "code",
   "execution_count": 69,
   "metadata": {},
   "outputs": [
    {
     "name": "stdout",
     "output_type": "stream",
     "text": [
      "dict_keys(['name', 'id', 'grade', 'address'])\n",
      "dict_values(['Rabin', 'E001', 'A', 'Kirtipur'])\n"
     ]
    }
   ],
   "source": [
    "#dictionary methods\n",
    "keys=students.keys()\n",
    "print(keys)\n",
    "values=students.values()\n",
    "print(values)"
   ]
  },
  {
   "cell_type": "code",
   "execution_count": 70,
   "metadata": {},
   "outputs": [
    {
     "name": "stdout",
     "output_type": "stream",
     "text": [
      "{'name': 'Sachin', 'id': 'E001', 'grade': 'A'}\n"
     ]
    }
   ],
   "source": [
    "print(employee)"
   ]
  },
  {
   "cell_type": "code",
   "execution_count": 71,
   "metadata": {},
   "outputs": [
    {
     "name": "stdout",
     "output_type": "stream",
     "text": [
      "dict_items([('name', 'Rabin'), ('id', 'E001'), ('grade', 'A'), ('address', 'Kirtipur')])\n"
     ]
    }
   ],
   "source": [
    "print(students.items())"
   ]
  },
  {
   "cell_type": "code",
   "execution_count": 72,
   "metadata": {},
   "outputs": [
    {
     "name": "stdout",
     "output_type": "stream",
     "text": [
      "{'name': 'Rabin', 'id': 'E001', 'grade': 'A', 'address': 'Kirtipur'}\n",
      "{'name': 'Rabin', 'id': 'E001', 'grade': 'A', 'address': 'Kirtipur'}\n",
      "{'name': 'Sachin', 'id': 'E001', 'grade': 'A', 'address': 'Kirtipur'}\n",
      "{'name': 'Rabin', 'id': 'E001', 'grade': 'A', 'address': 'Kirtipur'}\n"
     ]
    }
   ],
   "source": [
    "#Shallow copy\n",
    "\n",
    "students_copy=students.copy()\n",
    "print(students)\n",
    "print(students_copy)\n",
    "\n",
    "students[\"name\"]=\"Sachin\"\n",
    "print(students)\n",
    "print(students_copy)\n"
   ]
  },
  {
   "cell_type": "code",
   "execution_count": 79,
   "metadata": {},
   "outputs": [
    {
     "name": "stdout",
     "output_type": "stream",
     "text": [
      "Sachin\n",
      "E001\n",
      "A\n",
      "Kirtipur\n"
     ]
    }
   ],
   "source": [
    "for student in students.values():\n",
    "    print(student)\n"
   ]
  },
  {
   "cell_type": "code",
   "execution_count": 82,
   "metadata": {},
   "outputs": [
    {
     "name": "stdout",
     "output_type": "stream",
     "text": [
      "Key=name, value=Sachin\n",
      "Key=id, value=E001\n",
      "Key=grade, value=A\n",
      "Key=address, value=Kirtipur\n"
     ]
    }
   ],
   "source": [
    "for key,value in students.items():\n",
    "    print(f\"Key={key}, value={value}\")"
   ]
  },
  {
   "cell_type": "code",
   "execution_count": null,
   "metadata": {},
   "outputs": [
    {
     "name": "stdout",
     "output_type": "stream",
     "text": [
      "{'student1': {'name': 'Sachin Karki', 'age': 32, 'grade': 'A'}, 'student2': {'name': 'Samundra Karki', 'age': 12, 'grade': 'A'}}\n"
     ]
    }
   ],
   "source": [
    "#Nested dictionary\n",
    "students={\n",
    "    \"student1\":{\n",
    "        \"name\":\"Sachin Karki\",\n",
    "        \"age\":32,\n",
    "        \"grade\":\"A\"\n",
    "    },\n",
    "    \"student2\":{\n",
    "        \"name\":\"Samundra Karki\",\n",
    "        \"age\":12,\n",
    "        \"grade\":\"A\"\n",
    "    }\n",
    "}\n",
    "print(students)\n"
   ]
  },
  {
   "cell_type": "code",
   "execution_count": null,
   "metadata": {},
   "outputs": [
    {
     "name": "stdout",
     "output_type": "stream",
     "text": [
      "12\n"
     ]
    }
   ],
   "source": [
    "#Accessing nested dictionaries\n",
    "print(students[\"student2\"][\"age\"])\n"
   ]
  },
  {
   "cell_type": "code",
   "execution_count": 89,
   "metadata": {},
   "outputs": [
    {
     "name": "stdout",
     "output_type": "stream",
     "text": [
      "student1 {'name': 'Sachin Karki', 'age': 32, 'grade': 'A'}\n",
      "student2 {'name': 'Samundra Karki', 'age': 12, 'grade': 'A'}\n"
     ]
    }
   ],
   "source": [
    "for student_id, student_info in students.items():\n",
    "    print(student_id,student_info)"
   ]
  },
  {
   "cell_type": "code",
   "execution_count": 95,
   "metadata": {},
   "outputs": [
    {
     "name": "stdout",
     "output_type": "stream",
     "text": [
      "Sachin Karki\n",
      "32\n",
      "A\n",
      "Samundra Karki\n",
      "12\n",
      "A\n"
     ]
    }
   ],
   "source": [
    "for sid, sinfo in students.items():\n",
    "    for key, value in sinfo.items():\n",
    "        print(value)"
   ]
  },
  {
   "cell_type": "code",
   "execution_count": 98,
   "metadata": {},
   "outputs": [
    {
     "name": "stdout",
     "output_type": "stream",
     "text": [
      "{0: 0, 1: 1, 2: 4, 3: 9, 4: 16}\n"
     ]
    }
   ],
   "source": [
    "#dictionary comprehensions\n",
    "squares={x:x**2 for x in range(5)}\n",
    "print(squares)"
   ]
  },
  {
   "cell_type": "code",
   "execution_count": 106,
   "metadata": {},
   "outputs": [
    {
     "name": "stdout",
     "output_type": "stream",
     "text": [
      "{0: 0, 1: 1, 2: 4, 3: 9}\n"
     ]
    }
   ],
   "source": [
    "square={}\n",
    "for x in range(4):\n",
    "    square[x]=x**2\n",
    "print(square)    "
   ]
  },
  {
   "cell_type": "code",
   "execution_count": 109,
   "metadata": {},
   "outputs": [
    {
     "name": "stdout",
     "output_type": "stream",
     "text": [
      "{0: 0, 2: 4, 4: 16, 6: 36, 8: 64, 10: 100}\n"
     ]
    }
   ],
   "source": [
    "squares={x:x**2 for x in range(11) if x%2==0}\n",
    "print(squares)"
   ]
  },
  {
   "cell_type": "code",
   "execution_count": 118,
   "metadata": {},
   "outputs": [
    {
     "name": "stdout",
     "output_type": "stream",
     "text": [
      "{1: 2, 2: 4, 3: 4, 4: 1, 54: 1, 5: 4, 56: 1, 7: 1}\n"
     ]
    }
   ],
   "source": [
    "#Practical examples\n",
    "numbers=[1,1,2,2,2,2,3,3,3,3,4,54,5,5,5,5,56,7]\n",
    "frequency={}\n",
    "\n",
    "for number in numbers:\n",
    "    if number in frequency:\n",
    "        frequency[number]+=1\n",
    "    else:\n",
    "        frequency[number]=1\n",
    "print(frequency)\n",
    "# num_count={x:y for x in numbers if y==count(x)}\n",
    "# print(num_count)"
   ]
  },
  {
   "cell_type": "code",
   "execution_count": 122,
   "metadata": {},
   "outputs": [
    {
     "name": "stdout",
     "output_type": "stream",
     "text": [
      "{1: 3, 2: 6, 3: 7, 23: 1, 43254: 1, 5435: 1, 33: 1, 6: 1, 4: 1, 5: 1}\n"
     ]
    }
   ],
   "source": [
    "numbers=[1,2,2,2,2,3,23,43254,3,5435,33,3,2,3,3,3,3,1,1,2,6,4,5]\n",
    "frequency={}\n",
    "for number in numbers:\n",
    "    if number in frequency:\n",
    "        frequency[number]+=1\n",
    "    else:\n",
    "        frequency[number]=1\n",
    "\n",
    "print(frequency)"
   ]
  },
  {
   "cell_type": "code",
   "execution_count": 127,
   "metadata": {},
   "outputs": [
    {
     "name": "stdout",
     "output_type": "stream",
     "text": [
      "{'b': 2, 'c': 4, 'a': 1}\n"
     ]
    }
   ],
   "source": [
    "#Merge 2 dictionaries into 1\n",
    "dict2={\"b\":3,\"c\":4}\n",
    "dict1={\"a\":1,\"b\":2}\n",
    "\n",
    "merged_dict={**dict2,**dict1}\n",
    "print(merged_dict)"
   ]
  },
  {
   "cell_type": "code",
   "execution_count": 132,
   "metadata": {},
   "outputs": [
    {
     "name": "stdout",
     "output_type": "stream",
     "text": [
      "{1: 1, 2: 4, 3: 9, 4: 16, 5: 25, 6: 36, 7: 49, 8: 64, 9: 81, 10: 100}\n"
     ]
    }
   ],
   "source": [
    "dict1={x:x**2 for x in range(1,11)}\n",
    "print(dict1)"
   ]
  },
  {
   "cell_type": "code",
   "execution_count": 133,
   "metadata": {},
   "outputs": [
    {
     "name": "stdout",
     "output_type": "stream",
     "text": [
      "25\n"
     ]
    }
   ],
   "source": [
    "print(dict1[5])"
   ]
  },
  {
   "cell_type": "code",
   "execution_count": null,
   "metadata": {},
   "outputs": [
    {
     "name": "stdout",
     "output_type": "stream",
     "text": [
      "{1: 1, 2: 4, 3: 9, 4: 16, 5: 25, 6: 36, 7: 49, 8: 64, 9: 81, 10: 100, 11: 121}\n"
     ]
    }
   ],
   "source": [
    "dict1[11]=121\n",
    "print(dict1)\n"
   ]
  },
  {
   "cell_type": "code",
   "execution_count": 136,
   "metadata": {},
   "outputs": [
    {
     "name": "stdout",
     "output_type": "stream",
     "text": [
      "key: 1, Value= 1\n",
      "key: 2, Value= 2\n",
      "key: 3, Value= 3\n",
      "key: 4, Value= 4\n",
      "key: 5, Value= 5\n",
      "key: 6, Value= 6\n",
      "key: 7, Value= 7\n",
      "key: 8, Value= 8\n",
      "key: 9, Value= 9\n",
      "key: 10, Value= 10\n",
      "key: 11, Value= 11\n"
     ]
    }
   ],
   "source": [
    "for k,v in dict1.items():\n",
    "    print(f\"key: {k}, Value= {k}\")"
   ]
  },
  {
   "cell_type": "code",
   "execution_count": 139,
   "metadata": {},
   "outputs": [
    {
     "name": "stdout",
     "output_type": "stream",
     "text": [
      "{1: 1, 2: 8, 3: 27, 4: 64, 5: 125, 6: 216, 7: 343, 8: 512, 9: 729, 10: 1000}\n"
     ]
    }
   ],
   "source": [
    "import math\n",
    "dict2={x:int(math.pow(x,3)) for x in range(1,11)}\n",
    "print(dict2)"
   ]
  },
  {
   "cell_type": "code",
   "execution_count": 141,
   "metadata": {},
   "outputs": [
    {
     "name": "stdout",
     "output_type": "stream",
     "text": [
      "{1: 1, 2: 4, 3: 9, 4: 16, 5: 25, 6: 36, 7: 49, 8: 64, 9: 81, 10: 100}\n"
     ]
    }
   ],
   "source": [
    "dict1={x:x**2 for x in range(1,6)}\n",
    "dict2={x:x**2 for x in range(6,11)}\n",
    "merged_dict={**dict1,**dict2}\n",
    "print(merged_dict)"
   ]
  },
  {
   "cell_type": "code",
   "execution_count": 145,
   "metadata": {},
   "outputs": [
    {
     "name": "stdout",
     "output_type": "stream",
     "text": [
      "{'name': 'Sachin Karki', 'age': 32, 'sub': {'math', 'English', 'Science'}}\n",
      "math\n",
      "English\n",
      "Science\n"
     ]
    }
   ],
   "source": [
    "student={\"name\":\"Sachin Karki\",\n",
    "         \"age\":32,\n",
    "         \"sub\":{\"math\",\"Science\",\"English\"}\n",
    "         }\n",
    "print(student)\n",
    "\n",
    "for sub in student[\"sub\"]:\n",
    "    print(sub)"
   ]
  },
  {
   "cell_type": "code",
   "execution_count": 147,
   "metadata": {},
   "outputs": [
    {
     "name": "stdout",
     "output_type": "stream",
     "text": [
      "{1: {1, 2, 3, 4, 5}, 2: {2, 4, 6, 8, 10}, 3: {3, 6, 9, 12, 15}, 4: {4, 8, 12, 16, 20}, 5: {5, 10, 15, 20, 25}}\n"
     ]
    }
   ],
   "source": [
    "multiples = {i: {i * j for j in range(1, 6)} for i in range(1, 6)}\n",
    "print(multiples)"
   ]
  },
  {
   "cell_type": "code",
   "execution_count": 151,
   "metadata": {},
   "outputs": [
    {
     "name": "stdout",
     "output_type": "stream",
     "text": [
      "{1: (1,), 2: (4,), 3: (9,), 4: (16,)}\n"
     ]
    }
   ],
   "source": [
    "square={x:tuple([x**2]) for x in range(1,5)}\n",
    "print(square)"
   ]
  },
  {
   "cell_type": "code",
   "execution_count": 155,
   "metadata": {},
   "outputs": [
    {
     "name": "stdout",
     "output_type": "stream",
     "text": [
      "{2: 4, 4: 16, 6: 36, 8: 64, 10: 100}\n",
      "{4: 2, 16: 4, 36: 6, 64: 8, 100: 10}\n"
     ]
    }
   ],
   "source": [
    "dict1={x:x**2 for x in range(1,11) if x%2==0}\n",
    "print(dict1)\n",
    "dict2={x:y for y,x in dict1.items()}\n",
    "print(dict2)\n"
   ]
  },
  {
   "cell_type": "code",
   "execution_count": 162,
   "metadata": {},
   "outputs": [
    {
     "name": "stdout",
     "output_type": "stream",
     "text": [
      "{'S': 1, 'a': 4, 'c': 1, 'h': 3, 'i': 2, 'n': 1, ' ': 3, 'K': 1, 'r': 2, 'k': 2, 'A': 2, 'l': 2, 'b': 1}\n"
     ]
    }
   ],
   "source": [
    "def getString(name):\n",
    "    frequency={}\n",
    "    l1=list(name)\n",
    "    for i in name:\n",
    "        if i in frequency:\n",
    "            frequency[f\"{i}\"]+=1\n",
    "        else:\n",
    "            frequency[f\"{i}\"]=1\n",
    "    return frequency\n",
    "\n",
    "\n",
    "name=\"Sachin Karki Allah Akhbar\"\n",
    "print(getString(name))"
   ]
  },
  {
   "cell_type": "code",
   "execution_count": 170,
   "metadata": {},
   "outputs": [
    {
     "name": "stdout",
     "output_type": "stream",
     "text": [
      "{'B1': {'name': 'The Alchemist', 'author': 'Paulo Coelho', 'year': 1991}, 'B2': {'name': 'The One', 'author': 'Paulo Coelho', 'year': 1998}}\n",
      "name:The Alchemist\n",
      "author:Paulo Coelho\n",
      "year:1991\n",
      "name:The One\n",
      "author:Paulo Coelho\n",
      "year:1998\n",
      "{\n",
      "     \"B1\": {\n",
      "          \"name\": \"The Alchemist\",\n",
      "          \"author\": \"Paulo Coelho\",\n",
      "          \"year\": 1991\n",
      "     },\n",
      "     \"B2\": {\n",
      "          \"name\": \"The One\",\n",
      "          \"author\": \"Paulo Coelho\",\n",
      "          \"year\": 1998\n",
      "     }\n",
      "}\n"
     ]
    }
   ],
   "source": [
    "from json import dumps\n",
    "book={\n",
    "    \"B1\":{\"name\":\"The Alchemist\",\"author\":\"Paulo Coelho\",\"year\":1991},\n",
    "    \"B2\":{\"name\":\"The One\",\"author\":\"Paulo Coelho\",\"year\":1998}\n",
    "}\n",
    "print(book)\n",
    "for k,v in book.items():\n",
    "    for key,value in v.items():\n",
    "        print(f\"{key}:{value}\")\n",
    "\n",
    "book_json=dumps(book, indent=5)\n",
    "print(book_json)\n"
   ]
  }
 ],
 "metadata": {
  "kernelspec": {
   "display_name": "Python 3",
   "language": "python",
   "name": "python3"
  },
  "language_info": {
   "codemirror_mode": {
    "name": "ipython",
    "version": 3
   },
   "file_extension": ".py",
   "mimetype": "text/x-python",
   "name": "python",
   "nbconvert_exporter": "python",
   "pygments_lexer": "ipython3",
   "version": "3.12.0"
  }
 },
 "nbformat": 4,
 "nbformat_minor": 2
}
