{
 "cells": [
  {
   "cell_type": "code",
   "execution_count": 61,
   "metadata": {},
   "outputs": [
    {
     "name": "stdout",
     "output_type": "stream",
     "text": [
      "(1, 2, 3, 4, 5, 6, 7, 8, 9, 10)\n"
     ]
    }
   ],
   "source": [
    "tup1=tuple(x for x in range(1,11))\n",
    "print((tup1))"
   ]
  },
  {
   "cell_type": "code",
   "execution_count": 64,
   "metadata": {},
   "outputs": [
    {
     "name": "stdout",
     "output_type": "stream",
     "text": [
      "1 10 6\n"
     ]
    }
   ],
   "source": [
    "print(tup1[0],tup1[-1],tup1[(0+len(tup1))//2])"
   ]
  },
  {
   "cell_type": "code",
   "execution_count": 73,
   "metadata": {},
   "outputs": [
    {
     "name": "stdout",
     "output_type": "stream",
     "text": [
      "(1, 2, 3) (10, 9, 8) (3, 4, 5, 6)\n"
     ]
    }
   ],
   "source": [
    "print(tup1[0:3],tup1[-1:-4:-1], tup1[2:6:1])"
   ]
  },
  {
   "cell_type": "code",
   "execution_count": 82,
   "metadata": {},
   "outputs": [
    {
     "name": "stdout",
     "output_type": "stream",
     "text": [
      "6\n"
     ]
    }
   ],
   "source": [
    "nested_tup=((1,2,3),(4,5,6),(7,8,9))\n",
    "print(nested_tup[1][2])\n"
   ]
  },
  {
   "cell_type": "code",
   "execution_count": 92,
   "metadata": {},
   "outputs": [
    {
     "name": "stdout",
     "output_type": "stream",
     "text": [
      "(1, 2, 3, 3, 4, 5)\n"
     ]
    }
   ],
   "source": [
    "t1=(1,2,3)\n",
    "t2=(3,4,5)\n",
    "t3=t1+t2\n",
    "print(t3)"
   ]
  },
  {
   "cell_type": "code",
   "execution_count": 95,
   "metadata": {},
   "outputs": [
    {
     "name": "stdout",
     "output_type": "stream",
     "text": [
      "3\n",
      "0\n"
     ]
    }
   ],
   "source": [
    "t4=(3, 2, 3, 3, 4, 5)\n",
    "print(t4.count(3))\n",
    "print(t4.index(3))"
   ]
  },
  {
   "cell_type": "code",
   "execution_count": 97,
   "metadata": {},
   "outputs": [
    {
     "name": "stdout",
     "output_type": "stream",
     "text": [
      "1 2 3 4 5\n"
     ]
    }
   ],
   "source": [
    "t5=(1,2,3,4,5)\n",
    "a,b,c,d,e=t5\n",
    "print(a,b,c,d,e)"
   ]
  },
  {
   "cell_type": "code",
   "execution_count": 101,
   "metadata": {},
   "outputs": [
    {
     "name": "stdout",
     "output_type": "stream",
     "text": [
      "[1, 2, 3, 4, 5]\n",
      "(1, 2, 3, 4, 5)\n"
     ]
    }
   ],
   "source": [
    "l1=[x for x in range(1,6)]\n",
    "print(l1)\n",
    "t1=tuple(l1)\n",
    "print(t1)"
   ]
  },
  {
   "cell_type": "code",
   "execution_count": 105,
   "metadata": {},
   "outputs": [
    {
     "name": "stdout",
     "output_type": "stream",
     "text": [
      "1 2 3 \n",
      "Sachin 3 4 \n",
      "1 5 6 \n"
     ]
    }
   ],
   "source": [
    "t1=((1,2,3),(\"Sachin\",3,4),(1,5,6))\n",
    "for items in t1: \n",
    "    for i in items:\n",
    "        print(i, end=\" \")\n",
    "    print()\n"
   ]
  },
  {
   "cell_type": "code",
   "execution_count": 110,
   "metadata": {},
   "outputs": [
    {
     "name": "stdout",
     "output_type": "stream",
     "text": [
      "2718252734304\n",
      "2718253543296\n",
      "(1, 2, 3, 4, 5, 'Sachin')\n"
     ]
    }
   ],
   "source": [
    "t1=tuple(x for x in range(1,6))\n",
    "print(id(t1))\n",
    "\n",
    "l1=list(t1)\n",
    "l1.append(\"Sachin\")\n",
    "t1=tuple(l1)\n",
    "print(id(t1))\n",
    "print(t1)"
   ]
  },
  {
   "cell_type": "code",
   "execution_count": 113,
   "metadata": {},
   "outputs": [
    {
     "name": "stdout",
     "output_type": "stream",
     "text": [
      " Sachin\n"
     ]
    }
   ],
   "source": [
    "t1=(\"S\",\"a\",\"c\",\"h\",\"i\",\"n\")\n",
    "name=\" \"\n",
    "for i in t1:\n",
    "    name+=i\n",
    "print(name)"
   ]
  },
  {
   "cell_type": "code",
   "execution_count": 118,
   "metadata": {},
   "outputs": [
    {
     "name": "stdout",
     "output_type": "stream",
     "text": [
      "{(1,): 'Sachin', (2,): 'Diwa'}\n"
     ]
    }
   ],
   "source": [
    "dict1={\n",
    "    (1,):\"Sachin\",\n",
    "    (2,):\"Diwa\"\n",
    "}\n",
    "print(dict1)"
   ]
  },
  {
   "cell_type": "code",
   "execution_count": 119,
   "metadata": {},
   "outputs": [
    {
     "name": "stdout",
     "output_type": "stream",
     "text": [
      "1\n",
      "2\n",
      "3\n",
      "4\n",
      "5\n",
      "6\n",
      "7\n",
      "8\n",
      "9\n"
     ]
    }
   ],
   "source": [
    "nested_tup=((1,2,3),(4,5,6),(7,8,9))\n",
    "for items in nested_tup:\n",
    "    for i in items:\n",
    "        print(i ,end=\"\\n\")\n"
   ]
  },
  {
   "cell_type": "code",
   "execution_count": 121,
   "metadata": {},
   "outputs": [
    {
     "name": "stdout",
     "output_type": "stream",
     "text": [
      "(1, 2, 3, 4, 5, 6)\n"
     ]
    }
   ],
   "source": [
    "tup1=(1,2,3,4,5,3,4,5,3,4,6)\n",
    "s1=set(tup1)\n",
    "t1=tuple(s1)\n",
    "print(t1)"
   ]
  },
  {
   "cell_type": "code",
   "execution_count": 126,
   "metadata": {},
   "outputs": [
    {
     "name": "stdout",
     "output_type": "stream",
     "text": [
      "(34,)\n"
     ]
    }
   ],
   "source": [
    "def operateTuple(t):\n",
    "    t1=[]\n",
    "    max=0\n",
    "    for i in t:\n",
    "        if(i>max):\n",
    "            max=i\n",
    "    t1.append(max)\n",
    "    return t1    \n",
    "\n",
    "t3=(1,2,3,4,5,6,7,8,9,34)\n",
    "print(tuple(operateTuple(t3)))"
   ]
  },
  {
   "cell_type": "code",
   "execution_count": 128,
   "metadata": {},
   "outputs": [
    {
     "name": "stdout",
     "output_type": "stream",
     "text": [
      "1\n"
     ]
    }
   ],
   "source": [
    "def min_tuple(tup):\n",
    "    return min(tup)\n",
    "\n",
    "t3=(1,2,3,4,5,6,7,8,9,34)\n",
    "a=min_tuple(t3)\n",
    "print(a)"
   ]
  }
 ],
 "metadata": {
  "kernelspec": {
   "display_name": "Python 3",
   "language": "python",
   "name": "python3"
  },
  "language_info": {
   "codemirror_mode": {
    "name": "ipython",
    "version": 3
   },
   "file_extension": ".py",
   "mimetype": "text/x-python",
   "name": "python",
   "nbconvert_exporter": "python",
   "pygments_lexer": "ipython3",
   "version": "3.12.0"
  }
 },
 "nbformat": 4,
 "nbformat_minor": 2
}
